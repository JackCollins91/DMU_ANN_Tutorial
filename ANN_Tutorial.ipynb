{
 "cells": [
  {
   "attachments": {},
   "cell_type": "markdown",
   "metadata": {},
   "source": [
    "# A Hands-On Introduction to Artificial Neural Networks"
   ]
  },
  {
   "attachments": {},
   "cell_type": "markdown",
   "metadata": {},
   "source": [
    "**By: [John 'Jack' Collins](https://www.mzes.uni-mannheim.de/d7/en/profiles/john-james-collins)**"
   ]
  },
  {
   "attachments": {},
   "cell_type": "markdown",
   "metadata": {},
   "source": [
    "Neural networks are powerful machine learning algorithms that form the basis of many important technologies, including generative AI and computer vision. However, they're not as straight-forward to implement as many other machine learning techniques, like random forest or logistic regression. If you're a researcher interested in applying neural networks, we've made a handy guide to help you easily prototype a neural network for your own use-case.\n",
    "\n",
    "In this [tutorial](https://www.mzes.uni-mannheim.de/socialsciencedatalab/), we demonstrate how to get started with Artificial Neural Networks (ANN). This article is aimed at researchers who may be familiar with python, know some basic machine learning (i.e. logistic regression or random forest), but have yet to try using neural networks.\n",
    "\n",
    "We will:\n",
    "\n",
    "- Demonstrate how to quickly produce a model, train, validate, and evaluate it. We also show how to efficiently find the best hyperparameters.\n",
    "- Offer reuseable code which makes it easy to prototype ANNs in your own project. \n",
    "- Introduce you to libraries Keras and Tensorflow, which together make one of the most popular approaches to AI coding. \n",
    "- Finish by demonstrating how a Keras model can be saved and loaded, enabling you to deploy the model as you please. \n",
    "\n",
    "By way of example, we will step through a simple classification problem with the well-known 'iris' dataset. We close with a brief demonstration of how the same code can easily be re-used to accomplish other use cases as well. \n"
   ]
  },
  {
   "attachments": {},
   "cell_type": "markdown",
   "metadata": {},
   "source": [
    "## Introduction\n",
    "\n",
    "### What are ANNs?\n",
    "Even if you have no familiarity with the theory, you can still follow this tutorial, just review the following key points.\n",
    "\n",
    "- An Artificial Neural Network is a type of supervised machine learner. It is trained on data and can then be used to make predictions about new data. In this tutorial, we will train an ANN to classify species of flowers based on measurements of their petals. \n",
    "\n",
    "- In this tutorial, we introduce the simplest kind of ANN, a 'Feed Forward Neural Network' (FNN), also known as a 'Multilayer Perceptron' (MLP). There are many more complex types of ANN which are better-suited to more complex tasks, like time-series prediction (with Recurrent Neural Networks) and Image Processing (with Convolutional Neural Networks). These are great techniques to learn, and this tutorial offers a solid basis from which to continue learning about those elsewhere. In fact, you may even reuse the same code with minor adjustments to perform those exact techniques. \n",
    "\n",
    "- This tutorial is about stepping the reader through an example, and not about explaining what ANNs are. However, if you want to understand the theory, there are many resources available: We suggest [this video series ](https://www.youtube.com/watch?v=CqOfi41LfDw&ab_channel=StatQuestwithJoshStarmer) for an introduction to the theory of ANNs. If you want a very detailed understanding and are willing to purchase it, we can also recommend this excellent [Udemy course](https://www.udemy.com/course/deep-learning-tensorflow-2/).\n",
    "\n",
    "- However, here's a brief description of an FNN: An FNN is composed of computational units called 'neurons' which are grouped in sets called 'layers.' The inputs from the independent features are passed through the layers of neurons. The neurons fit weights to the inputs in a way that derives connections between the independent features and the dependant variable.\n",
    "\n",
    "- While ANNs are very well-suited for certain machine learning problems, in many scenarios simpler models, like logistic regression, may actually be better than ANNs. We'll explain this in the next section.\n",
    "\n",
    "\n",
    "### What are ANNs useful for?\n",
    "\n",
    "ANNs excel at non-linearly separable problems. In the following figure, we can see an example of a non-linearly separable problem compared to one that is linear. \n",
    "\n",
    "![linear-problems alt ><](fig1.png)\n",
    "\n",
    "With a linear problem, you can see how it would be possible to draw a line (straight or curvy) between the blue and red dots. This means we could derive a linear function (or a polynomial function) which takes the X and Y coordinates and outputs a classification for whether the dot is blue or red. But in the non-linear problem, there is no way a line (no matter how curvy) can separate the blue and red dots. \n",
    "\n",
    "The functions which underpins ANNs allows for interactions between variables. This means the underlying function can fit to the X and Y inputs such that a dot is classified blue if the X coordinate is of a certain value AND the Y coordinates are within a certain range also. This innovation means that ANNs can fit to types of problems that are impossible for linear models. \n",
    "\n",
    "However, ANNs are not always best. Because ANNs can fit so finely to data, it is vulnerable to overfitting. When a problem is linearly separable, it may often be better to use the simpler, and less overfit-prone model instead. \n",
    "\n",
    "Those readers familiar with tree-based models might recognize that tree algorithms can also handle interactions between features. It is true that tree-based models are also good for non-linearly separable problems as well as ANNs. Tree-based models partition a feature space, such as the X and Y coordinate space in the diagram above, into subsections and classify points based on which subsection they fall into. A key difference betweens ANNs and trees, is that while tree-based models usually have distinct boundaries between subsections (a result of the binary decision functions in the trees), ANNs are better suited to yield varying probabilities for classification classes across the space. This is not to say tree-based models do not output probabilistic predictions (they do), just that ANNs can be better suited to finely tune those probabilities. See [this article](https://towardsdatascience.com/when-and-why-tree-based-models-often-outperform-neural-networks-ceba9ecd0fd8#:~:text=The%20primary%20difference%20in%20usage,power%20of%20tree%2Dbased%20methods.) for a deeper discussion of the differences between tree-based models and neural networks. \n",
    "\n",
    "\n",
    "### How do I get started?\n",
    "\n",
    "In this tutorial, we will step through an example from which you can reuse this code in your own project. We will demonstrate how to use Keras and Tensorflow, together, this is the most common starting point for learning neural networks. Before we begin, here's a quick introduction to these two packages.\n",
    "\n",
    "#### What is Tensorflow?\n",
    "\n",
    "[Tensorflow](https://www.tensorflow.org/about#:~:text=TensorFlow%20gives%20you%20the%20flexibility,fast%20debugging%2C%20use%20eager%20execution.) is one of [the most popular](https://www.forbes.com/sites/janakirammsv/2020/11/27/tensorflow-turns-5five-reasons-why-it-is-the-most-popular-ml-framework/) tools for developing neural networks. Tensorflow is not a library for making neural networks per se. Rather, Tensorflow is for efficiently handling the mathematic operations that neural networks rely on. ANNs utilize a lot of linear algebra, matrix operations and node-edge graph manipulations. Tensorflow provides a set of functionality to accomplish these operations efficiently with C++ code and allows the developer to use these functions with a python interface. \n",
    "\n",
    "#### What is Keras?\n",
    "As discussed, Tensorflow itself doesn't directly provide neural network functionality. Instead, the programmer who wants to develop an ANN will need another library. [Keras](https://keras.io/why_keras/#:~:text=Keras%20prioritizes%20developer%20experience&text=Keras%20follows%20best%20practices%20for,learn%20and%20easy%20to%20use.) provides programmers a way to declare what kind of ANN they want and then Keras accomplishes the interfacing with Tensorflow to generate the network. Tensorflow focusses on accomplishing the mathematics efficiently, while Keras provides programmers an easy way to develop their models. \n",
    "Although Keras and Tensorflow are very often used together, they are actually independent. Keras can be used to interface with an alternative to Tensorflow, like Theano. Similarly, developers can use an alternatives to Keras, like TFLearn and still use Tensorflow in the backend. "
   ]
  },
  {
   "attachments": {},
   "cell_type": "markdown",
   "metadata": {},
   "source": [
    "## Setup\n",
    "Before writing the code, we import the necessary libraries and set a few configurations."
   ]
  },
  {
   "cell_type": "code",
   "execution_count": 1,
   "metadata": {},
   "outputs": [
    {
     "name": "stderr",
     "output_type": "stream",
     "text": [
      "c:\\Users\\jocollin\\OneDrive - uni-mannheim.de\\repos\\DMU\\DMU_NN_TUTORIAL\\venv\\lib\\site-packages\\shap\\utils\\_clustering.py:35: NumbaDeprecationWarning: \u001b[1mThe 'nopython' keyword argument was not supplied to the 'numba.jit' decorator. The implicit default value for this argument is currently False, but it will be changed to True in Numba 0.59.0. See https://numba.readthedocs.io/en/stable/reference/deprecation.html#deprecation-of-object-mode-fall-back-behaviour-when-using-jit for details.\u001b[0m\n",
      "  def _pt_shuffle_rec(i, indexes, index_mask, partition_tree, M, pos):\n",
      "c:\\Users\\jocollin\\OneDrive - uni-mannheim.de\\repos\\DMU\\DMU_NN_TUTORIAL\\venv\\lib\\site-packages\\shap\\utils\\_clustering.py:54: NumbaDeprecationWarning: \u001b[1mThe 'nopython' keyword argument was not supplied to the 'numba.jit' decorator. The implicit default value for this argument is currently False, but it will be changed to True in Numba 0.59.0. See https://numba.readthedocs.io/en/stable/reference/deprecation.html#deprecation-of-object-mode-fall-back-behaviour-when-using-jit for details.\u001b[0m\n",
      "  def delta_minimization_order(all_masks, max_swap_size=100, num_passes=2):\n",
      "c:\\Users\\jocollin\\OneDrive - uni-mannheim.de\\repos\\DMU\\DMU_NN_TUTORIAL\\venv\\lib\\site-packages\\shap\\utils\\_clustering.py:63: NumbaDeprecationWarning: \u001b[1mThe 'nopython' keyword argument was not supplied to the 'numba.jit' decorator. The implicit default value for this argument is currently False, but it will be changed to True in Numba 0.59.0. See https://numba.readthedocs.io/en/stable/reference/deprecation.html#deprecation-of-object-mode-fall-back-behaviour-when-using-jit for details.\u001b[0m\n",
      "  def _reverse_window(order, start, length):\n",
      "c:\\Users\\jocollin\\OneDrive - uni-mannheim.de\\repos\\DMU\\DMU_NN_TUTORIAL\\venv\\lib\\site-packages\\shap\\utils\\_clustering.py:69: NumbaDeprecationWarning: \u001b[1mThe 'nopython' keyword argument was not supplied to the 'numba.jit' decorator. The implicit default value for this argument is currently False, but it will be changed to True in Numba 0.59.0. See https://numba.readthedocs.io/en/stable/reference/deprecation.html#deprecation-of-object-mode-fall-back-behaviour-when-using-jit for details.\u001b[0m\n",
      "  def _reverse_window_score_gain(masks, order, start, length):\n",
      "c:\\Users\\jocollin\\OneDrive - uni-mannheim.de\\repos\\DMU\\DMU_NN_TUTORIAL\\venv\\lib\\site-packages\\shap\\utils\\_clustering.py:77: NumbaDeprecationWarning: \u001b[1mThe 'nopython' keyword argument was not supplied to the 'numba.jit' decorator. The implicit default value for this argument is currently False, but it will be changed to True in Numba 0.59.0. See https://numba.readthedocs.io/en/stable/reference/deprecation.html#deprecation-of-object-mode-fall-back-behaviour-when-using-jit for details.\u001b[0m\n",
      "  def _mask_delta_score(m1, m2):\n",
      "c:\\Users\\jocollin\\OneDrive - uni-mannheim.de\\repos\\DMU\\DMU_NN_TUTORIAL\\venv\\lib\\site-packages\\shap\\links.py:5: NumbaDeprecationWarning: \u001b[1mThe 'nopython' keyword argument was not supplied to the 'numba.jit' decorator. The implicit default value for this argument is currently False, but it will be changed to True in Numba 0.59.0. See https://numba.readthedocs.io/en/stable/reference/deprecation.html#deprecation-of-object-mode-fall-back-behaviour-when-using-jit for details.\u001b[0m\n",
      "  def identity(x):\n",
      "c:\\Users\\jocollin\\OneDrive - uni-mannheim.de\\repos\\DMU\\DMU_NN_TUTORIAL\\venv\\lib\\site-packages\\shap\\links.py:10: NumbaDeprecationWarning: \u001b[1mThe 'nopython' keyword argument was not supplied to the 'numba.jit' decorator. The implicit default value for this argument is currently False, but it will be changed to True in Numba 0.59.0. See https://numba.readthedocs.io/en/stable/reference/deprecation.html#deprecation-of-object-mode-fall-back-behaviour-when-using-jit for details.\u001b[0m\n",
      "  def _identity_inverse(x):\n",
      "c:\\Users\\jocollin\\OneDrive - uni-mannheim.de\\repos\\DMU\\DMU_NN_TUTORIAL\\venv\\lib\\site-packages\\shap\\links.py:15: NumbaDeprecationWarning: \u001b[1mThe 'nopython' keyword argument was not supplied to the 'numba.jit' decorator. The implicit default value for this argument is currently False, but it will be changed to True in Numba 0.59.0. See https://numba.readthedocs.io/en/stable/reference/deprecation.html#deprecation-of-object-mode-fall-back-behaviour-when-using-jit for details.\u001b[0m\n",
      "  def logit(x):\n",
      "c:\\Users\\jocollin\\OneDrive - uni-mannheim.de\\repos\\DMU\\DMU_NN_TUTORIAL\\venv\\lib\\site-packages\\shap\\links.py:20: NumbaDeprecationWarning: \u001b[1mThe 'nopython' keyword argument was not supplied to the 'numba.jit' decorator. The implicit default value for this argument is currently False, but it will be changed to True in Numba 0.59.0. See https://numba.readthedocs.io/en/stable/reference/deprecation.html#deprecation-of-object-mode-fall-back-behaviour-when-using-jit for details.\u001b[0m\n",
      "  def _logit_inverse(x):\n",
      "c:\\Users\\jocollin\\OneDrive - uni-mannheim.de\\repos\\DMU\\DMU_NN_TUTORIAL\\venv\\lib\\site-packages\\shap\\utils\\_masked_model.py:363: NumbaDeprecationWarning: \u001b[1mThe 'nopython' keyword argument was not supplied to the 'numba.jit' decorator. The implicit default value for this argument is currently False, but it will be changed to True in Numba 0.59.0. See https://numba.readthedocs.io/en/stable/reference/deprecation.html#deprecation-of-object-mode-fall-back-behaviour-when-using-jit for details.\u001b[0m\n",
      "  def _build_fixed_single_output(averaged_outs, last_outs, outputs, batch_positions, varying_rows, num_varying_rows, link, linearizing_weights):\n",
      "c:\\Users\\jocollin\\OneDrive - uni-mannheim.de\\repos\\DMU\\DMU_NN_TUTORIAL\\venv\\lib\\site-packages\\shap\\utils\\_masked_model.py:385: NumbaDeprecationWarning: \u001b[1mThe 'nopython' keyword argument was not supplied to the 'numba.jit' decorator. The implicit default value for this argument is currently False, but it will be changed to True in Numba 0.59.0. See https://numba.readthedocs.io/en/stable/reference/deprecation.html#deprecation-of-object-mode-fall-back-behaviour-when-using-jit for details.\u001b[0m\n",
      "  def _build_fixed_multi_output(averaged_outs, last_outs, outputs, batch_positions, varying_rows, num_varying_rows, link, linearizing_weights):\n",
      "c:\\Users\\jocollin\\OneDrive - uni-mannheim.de\\repos\\DMU\\DMU_NN_TUTORIAL\\venv\\lib\\site-packages\\shap\\utils\\_masked_model.py:428: NumbaDeprecationWarning: \u001b[1mThe 'nopython' keyword argument was not supplied to the 'numba.jit' decorator. The implicit default value for this argument is currently False, but it will be changed to True in Numba 0.59.0. See https://numba.readthedocs.io/en/stable/reference/deprecation.html#deprecation-of-object-mode-fall-back-behaviour-when-using-jit for details.\u001b[0m\n",
      "  def _init_masks(cluster_matrix, M, indices_row_pos, indptr):\n",
      "c:\\Users\\jocollin\\OneDrive - uni-mannheim.de\\repos\\DMU\\DMU_NN_TUTORIAL\\venv\\lib\\site-packages\\shap\\utils\\_masked_model.py:439: NumbaDeprecationWarning: \u001b[1mThe 'nopython' keyword argument was not supplied to the 'numba.jit' decorator. The implicit default value for this argument is currently False, but it will be changed to True in Numba 0.59.0. See https://numba.readthedocs.io/en/stable/reference/deprecation.html#deprecation-of-object-mode-fall-back-behaviour-when-using-jit for details.\u001b[0m\n",
      "  def _rec_fill_masks(cluster_matrix, indices_row_pos, indptr, indices, M, ind):\n",
      "c:\\Users\\jocollin\\OneDrive - uni-mannheim.de\\repos\\DMU\\DMU_NN_TUTORIAL\\venv\\lib\\site-packages\\shap\\maskers\\_tabular.py:186: NumbaDeprecationWarning: \u001b[1mThe 'nopython' keyword argument was not supplied to the 'numba.jit' decorator. The implicit default value for this argument is currently False, but it will be changed to True in Numba 0.59.0. See https://numba.readthedocs.io/en/stable/reference/deprecation.html#deprecation-of-object-mode-fall-back-behaviour-when-using-jit for details.\u001b[0m\n",
      "  def _single_delta_mask(dind, masked_inputs, last_mask, data, x, noop_code):\n",
      "c:\\Users\\jocollin\\OneDrive - uni-mannheim.de\\repos\\DMU\\DMU_NN_TUTORIAL\\venv\\lib\\site-packages\\shap\\maskers\\_tabular.py:197: NumbaDeprecationWarning: \u001b[1mThe 'nopython' keyword argument was not supplied to the 'numba.jit' decorator. The implicit default value for this argument is currently False, but it will be changed to True in Numba 0.59.0. See https://numba.readthedocs.io/en/stable/reference/deprecation.html#deprecation-of-object-mode-fall-back-behaviour-when-using-jit for details.\u001b[0m\n",
      "  def _delta_masking(masks, x, curr_delta_inds, varying_rows_out,\n",
      "c:\\Users\\jocollin\\OneDrive - uni-mannheim.de\\repos\\DMU\\DMU_NN_TUTORIAL\\venv\\lib\\site-packages\\shap\\maskers\\_image.py:175: NumbaDeprecationWarning: \u001b[1mThe 'nopython' keyword argument was not supplied to the 'numba.jit' decorator. The implicit default value for this argument is currently False, but it will be changed to True in Numba 0.59.0. See https://numba.readthedocs.io/en/stable/reference/deprecation.html#deprecation-of-object-mode-fall-back-behaviour-when-using-jit for details.\u001b[0m\n",
      "  def _jit_build_partition_tree(xmin, xmax, ymin, ymax, zmin, zmax, total_ywidth, total_zwidth, M, clustering, q):\n",
      "c:\\Users\\jocollin\\OneDrive - uni-mannheim.de\\repos\\DMU\\DMU_NN_TUTORIAL\\venv\\lib\\site-packages\\tqdm\\auto.py:21: TqdmWarning: IProgress not found. Please update jupyter and ipywidgets. See https://ipywidgets.readthedocs.io/en/stable/user_install.html\n",
      "  from .autonotebook import tqdm as notebook_tqdm\n",
      "c:\\Users\\jocollin\\OneDrive - uni-mannheim.de\\repos\\DMU\\DMU_NN_TUTORIAL\\venv\\lib\\site-packages\\shap\\explainers\\_partition.py:676: NumbaDeprecationWarning: \u001b[1mThe 'nopython' keyword argument was not supplied to the 'numba.jit' decorator. The implicit default value for this argument is currently False, but it will be changed to True in Numba 0.59.0. See https://numba.readthedocs.io/en/stable/reference/deprecation.html#deprecation-of-object-mode-fall-back-behaviour-when-using-jit for details.\u001b[0m\n",
      "  def lower_credit(i, value, M, values, clustering):\n",
      "\u001b[1mThe 'nopython' keyword argument was not supplied to the 'numba.jit' decorator. The implicit default value for this argument is currently False, but it will be changed to True in Numba 0.59.0. See https://numba.readthedocs.io/en/stable/reference/deprecation.html#deprecation-of-object-mode-fall-back-behaviour-when-using-jit for details.\u001b[0m\n",
      "\u001b[1mThe 'nopython' keyword argument was not supplied to the 'numba.jit' decorator. The implicit default value for this argument is currently False, but it will be changed to True in Numba 0.59.0. See https://numba.readthedocs.io/en/stable/reference/deprecation.html#deprecation-of-object-mode-fall-back-behaviour-when-using-jit for details.\u001b[0m\n"
     ]
    }
   ],
   "source": [
    "## Libraries to pip install\n",
    "# keras-tuner\n",
    "# matplotlib\n",
    "# numpy\n",
    "# pandas\n",
    "# scikit-learn\n",
    "# tensorflow\n",
    "\n",
    "import copy \n",
    "import keras_tuner as kt # for hypertuning with keras models. \n",
    "import matplotlib # visualization library\n",
    "import numpy as np # popular library for mathematic operations\n",
    "import pandas as pd # popular library for data table manipulation\n",
    "import shap # explained in 'interpretation' section below\n",
    "import shutil \n",
    "import sklearn as sk # for evaluation metrics and the example datasets. \n",
    "import tensorflow as tf \n",
    "import warnings\n",
    "\n",
    "from keras.utils import np_utils\n",
    "from matplotlib import pyplot as plt\n",
    "from sklearn import datasets\n",
    "from sklearn.model_selection import train_test_split\n",
    "from sklearn.metrics import (\n",
    "    confusion_matrix,\n",
    "    ConfusionMatrixDisplay, \n",
    "    accuracy_score, \n",
    "    mean_absolute_error\n",
    "    )\n",
    "from tensorflow import keras\n",
    "from tensorflow.keras.callbacks import EarlyStopping\n",
    "from keras.losses import Loss\n",
    "from keras.losses import SparseCategoricalCrossentropy\n",
    "\n",
    "\n",
    "## Tensorflow issues some warnings but they are not \n",
    "# important for us, so we'll just suppress them. \n",
    "warnings.simplefilter(\"ignore\")\n",
    "tf.compat.v1.logging.set_verbosity(tf.compat.v1.logging.ERROR)\n",
    "\n",
    "## Setting random seed for reproducible results\n",
    "tf.keras.utils.set_random_seed(42)"
   ]
  },
  {
   "attachments": {},
   "cell_type": "markdown",
   "metadata": {},
   "source": [
    "## Data\n",
    "In this section, we introduce the dataset for our experiment. We use the [iris dataset](https://archive.ics.uci.edu/ml/datasets/iris), in which we aim to classify which of three species of flower the subject is, based on measurements of petals and sepals. "
   ]
  },
  {
   "attachments": {},
   "cell_type": "markdown",
   "metadata": {},
   "source": [
    "### Import"
   ]
  },
  {
   "cell_type": "code",
   "execution_count": 2,
   "metadata": {},
   "outputs": [],
   "source": [
    "dataset = datasets.load_iris(return_X_y=False, as_frame=False)\n",
    "X = dataset.data\n",
    "y = dataset.target\n",
    "## a keras utility function to one hot encode (OHE) the vector of \n",
    "# categories y.\n",
    "y = np_utils.to_categorical(y) \n",
    "\n",
    "## The number of unique classes we seek to classify. \n",
    "# There are three species of iris in our dataset. \n",
    "n_classes = len(dataset.target_names) \n",
    "\n",
    "## ANNs require us to specify an 'input shape.' If our input were \n",
    "# images, we might have a 2d input, but for this problem, \n",
    "# it is just the number of predictive features, which is 4.\n",
    "input_shape = len(dataset.feature_names)\n",
    "\n",
    "## This is a list of the titles of the features.\n",
    "feature_names = dataset.feature_names \n",
    "\n",
    "## Test-train splitting\n",
    "X_train, X_test, y_train, y_test = train_test_split(\n",
    "    X, \n",
    "    y, \n",
    "    test_size=0.33, \n",
    "    random_state=42\n",
    "    )"
   ]
  },
  {
   "attachments": {},
   "cell_type": "markdown",
   "metadata": {},
   "source": [
    "### Data Inspection\n",
    "\n",
    "#### The predictive features (X)\n",
    "Our X value is a matrix of floats where each row is a flower and each column is a measurement. "
   ]
  },
  {
   "cell_type": "code",
   "execution_count": 3,
   "metadata": {},
   "outputs": [
    {
     "data": {
      "text/html": [
       "<div>\n",
       "<style scoped>\n",
       "    .dataframe tbody tr th:only-of-type {\n",
       "        vertical-align: middle;\n",
       "    }\n",
       "\n",
       "    .dataframe tbody tr th {\n",
       "        vertical-align: top;\n",
       "    }\n",
       "\n",
       "    .dataframe thead th {\n",
       "        text-align: right;\n",
       "    }\n",
       "</style>\n",
       "<table border=\"1\" class=\"dataframe\">\n",
       "  <thead>\n",
       "    <tr style=\"text-align: right;\">\n",
       "      <th></th>\n",
       "      <th>sepal length (cm)</th>\n",
       "      <th>sepal width (cm)</th>\n",
       "      <th>petal length (cm)</th>\n",
       "      <th>petal width (cm)</th>\n",
       "    </tr>\n",
       "  </thead>\n",
       "  <tbody>\n",
       "    <tr>\n",
       "      <th>0</th>\n",
       "      <td>5.1</td>\n",
       "      <td>3.5</td>\n",
       "      <td>1.4</td>\n",
       "      <td>0.2</td>\n",
       "    </tr>\n",
       "    <tr>\n",
       "      <th>1</th>\n",
       "      <td>4.9</td>\n",
       "      <td>3.0</td>\n",
       "      <td>1.4</td>\n",
       "      <td>0.2</td>\n",
       "    </tr>\n",
       "    <tr>\n",
       "      <th>2</th>\n",
       "      <td>4.7</td>\n",
       "      <td>3.2</td>\n",
       "      <td>1.3</td>\n",
       "      <td>0.2</td>\n",
       "    </tr>\n",
       "    <tr>\n",
       "      <th>3</th>\n",
       "      <td>4.6</td>\n",
       "      <td>3.1</td>\n",
       "      <td>1.5</td>\n",
       "      <td>0.2</td>\n",
       "    </tr>\n",
       "    <tr>\n",
       "      <th>4</th>\n",
       "      <td>5.0</td>\n",
       "      <td>3.6</td>\n",
       "      <td>1.4</td>\n",
       "      <td>0.2</td>\n",
       "    </tr>\n",
       "  </tbody>\n",
       "</table>\n",
       "</div>"
      ],
      "text/plain": [
       "   sepal length (cm)  sepal width (cm)  petal length (cm)  petal width (cm)\n",
       "0                5.1               3.5                1.4               0.2\n",
       "1                4.9               3.0                1.4               0.2\n",
       "2                4.7               3.2                1.3               0.2\n",
       "3                4.6               3.1                1.5               0.2\n",
       "4                5.0               3.6                1.4               0.2"
      ]
     },
     "execution_count": 3,
     "metadata": {},
     "output_type": "execute_result"
    }
   ],
   "source": [
    "pd.DataFrame(X,columns = feature_names).head(5)"
   ]
  },
  {
   "attachments": {},
   "cell_type": "markdown",
   "metadata": {},
   "source": [
    "### The dependant (y)\n",
    "For each row in X, there is a corresponding item in the vector y, which represents the species of flower. There are three unique species in our dataset as shown in the table below.\n",
    "However, our dependant y must come in the form of a One Hot Encoded (OHE) matrix, not a vector. In this format, there are three columns with a zero or one value to indicate which species of flower is this subject. "
   ]
  },
  {
   "cell_type": "code",
   "execution_count": 4,
   "metadata": {},
   "outputs": [
    {
     "data": {
      "text/html": [
       "<div>\n",
       "<style scoped>\n",
       "    .dataframe tbody tr th:only-of-type {\n",
       "        vertical-align: middle;\n",
       "    }\n",
       "\n",
       "    .dataframe tbody tr th {\n",
       "        vertical-align: top;\n",
       "    }\n",
       "\n",
       "    .dataframe thead th {\n",
       "        text-align: right;\n",
       "    }\n",
       "</style>\n",
       "<table border=\"1\" class=\"dataframe\">\n",
       "  <thead>\n",
       "    <tr style=\"text-align: right;\">\n",
       "      <th></th>\n",
       "      <th>setosa</th>\n",
       "      <th>versicolor</th>\n",
       "      <th>virginica</th>\n",
       "    </tr>\n",
       "  </thead>\n",
       "  <tbody>\n",
       "    <tr>\n",
       "      <th>0</th>\n",
       "      <td>1.0</td>\n",
       "      <td>0.0</td>\n",
       "      <td>0.0</td>\n",
       "    </tr>\n",
       "    <tr>\n",
       "      <th>1</th>\n",
       "      <td>1.0</td>\n",
       "      <td>0.0</td>\n",
       "      <td>0.0</td>\n",
       "    </tr>\n",
       "    <tr>\n",
       "      <th>2</th>\n",
       "      <td>1.0</td>\n",
       "      <td>0.0</td>\n",
       "      <td>0.0</td>\n",
       "    </tr>\n",
       "    <tr>\n",
       "      <th>3</th>\n",
       "      <td>1.0</td>\n",
       "      <td>0.0</td>\n",
       "      <td>0.0</td>\n",
       "    </tr>\n",
       "    <tr>\n",
       "      <th>4</th>\n",
       "      <td>1.0</td>\n",
       "      <td>0.0</td>\n",
       "      <td>0.0</td>\n",
       "    </tr>\n",
       "  </tbody>\n",
       "</table>\n",
       "</div>"
      ],
      "text/plain": [
       "   setosa  versicolor  virginica\n",
       "0     1.0         0.0        0.0\n",
       "1     1.0         0.0        0.0\n",
       "2     1.0         0.0        0.0\n",
       "3     1.0         0.0        0.0\n",
       "4     1.0         0.0        0.0"
      ]
     },
     "execution_count": 4,
     "metadata": {},
     "output_type": "execute_result"
    }
   ],
   "source": [
    "pd.DataFrame(y[:5],columns = dataset.target_names)"
   ]
  },
  {
   "attachments": {},
   "cell_type": "markdown",
   "metadata": {},
   "source": [
    "Let us inspect this same data when converted to an array, this will be used to 'flatten' the matrix form of y to a vector. Each row is a 'setosa' (0)."
   ]
  },
  {
   "cell_type": "code",
   "execution_count": 5,
   "metadata": {},
   "outputs": [
    {
     "data": {
      "text/plain": [
       "array([0, 0, 0, 0, 0], dtype=int64)"
      ]
     },
     "execution_count": 5,
     "metadata": {},
     "output_type": "execute_result"
    }
   ],
   "source": [
    "y[:5].argmax(axis=1)"
   ]
  },
  {
   "attachments": {},
   "cell_type": "markdown",
   "metadata": {},
   "source": [
    "## Modelling"
   ]
  },
  {
   "attachments": {},
   "cell_type": "markdown",
   "metadata": {},
   "source": [
    "### A Simple ANN\n",
    "\n",
    "If we want to develop a simple ANN, the Keras library makes this extremely simple.\n",
    "\n",
    "Firstly, we instantiate an empty 'sequential' model, so-called because each layer of neurons (which we shall add shortly) will feed into the subsequent layer (hence why this is also called a 'Feed Forward' network).\n",
    "\n",
    "Next, we must populate our empty Sequential model with layers. Here we will use 'Dense' layers, which are simply arrays of neurons. This is the most basic type of neural network layer. \n",
    "\n",
    "After the Dense layer, we add a 'Dropout' layer. The Dropout layer is like a gatekeeper: it selects certain neurons in the previous layer and blocks its input from going to the next layer. This nullification is helpful for avoiding overfitting caused by neurons over-weighting certain signals in the data. Dropout layers use a fitting process to determine which neurons are the best to 'drop' to improve predictive performance. \n",
    "\n",
    "Finally, we add the output layer. The shape of the output layer is important because it determines the format of the predictions. Because we have three classes in our classification problem, we want three outputs: each one will yield a float which represents the probability that a given case is of the corresponding species. \n",
    "If this were a regression problem, or a binary regression problem, we might only want one output unit, which would output just the regression value, or the probability of the binary case being a positive. "
   ]
  },
  {
   "attachments": {},
   "cell_type": "markdown",
   "metadata": {},
   "source": [
    "#### Terminology:\n",
    "- Batch size: This parameter instructs the ANN to trial that number of cases with a set of \n",
    "random weights before trialing another batch with a new set of weights. A large batch size enhances computational efficiency, at the potential cost of accuracy. \n",
    "\n",
    "- Epochs: The number of times the ANN shall repeatedly use the training data to find the optimum set of weights. \n",
    "A large number of epochs may increase accuracy, but takes longer to compute. \n",
    "\n",
    "- Optimizer: In the fitting process, random weights and thresholds are trialed for every node and the best combination is selected. However, trying every possible random combination is very inefficient. Instead, optimizers apply algorithms that aim to discover which combinations of parameters for each node is best. Instead of randomly selecting weights, the optimizer applies a guided process to discovering the best settings. These algorithms for determining the optimum weights are called 'gradient descent' algorithms. \n",
    "\n",
    "- Learning rate: The incremental value by which the optimizer varies weights.  A larger learning rate may be quicker to compute, but less accurate.\n",
    "\n",
    "- Loss Function: During the fitting process, the loss function is how we calculate if a given trial was better or worse that others. Here we use 'Binary Cross Entropy' which is a common selection for classification problems. Mean-squared error would be an appropriate choice for regression problems. \n",
    "\n",
    "- Metrics: Machine learning practitioners know there are many ways to evaluate a model's performance. We can record multiple metrics to evaluate performance. For example, we can examine the model's accuracy (the portion of correct predictions) and the recall (the portion of correctly classified cases of a given class among all cases of that class). "
   ]
  },
  {
   "cell_type": "code",
   "execution_count": 6,
   "metadata": {},
   "outputs": [
    {
     "name": "stdout",
     "output_type": "stream",
     "text": [
      "2/2 [==============================] - 0s 0s/step\n",
      "Accuracy of this model is: 70.00%\n"
     ]
    }
   ],
   "source": [
    "def get_simple_ann(\n",
    "        input_shape: int|tuple,\n",
    "        output_shape:int|tuple\n",
    "        ) -> keras.models.Sequential:\n",
    "    \"\"\"\n",
    "    This function returns an instance of a \n",
    "    Keras Sequential model which is ready to \n",
    "    fit with training data.\n",
    "    \n",
    "    Args:\n",
    "    input_shape: int or tuple. Describes the \n",
    "    dimensions of a single case of input.\n",
    "    output_shape: int or tuple. The desired \n",
    "    shape of output. \n",
    "    \n",
    "    Returns:\n",
    "    A compiled instance of a keras Sequential model\n",
    "    \"\"\"\n",
    "    ann = keras.models.Sequential()\n",
    "    \n",
    "    ## Adding the input layer with same number \n",
    "    # of nodes as we have input features\n",
    "    ann.add(\n",
    "        keras.layers.Dense(\n",
    "            units = 16,\n",
    "            activation='relu', \n",
    "            input_dim=input_shape\n",
    "            )\n",
    "        )\n",
    "    \n",
    "    # Adding 10% dropout to prevent overfitting\n",
    "    ann.add(keras.layers.Dropout(rate=0.1))\n",
    "    \n",
    "    ## Adding another Dense-Dropout combo to \n",
    "    # make a second layer in the network\n",
    "    ann.add(\n",
    "            keras.layers.Dense(\n",
    "            units = 16, \n",
    "            activation='relu'\n",
    "            )\n",
    "        )\n",
    "    ann.add(keras.layers.Dropout(rate=0.1))\n",
    "    \n",
    "    ## Adding the output layer. This must match the \n",
    "    # format of our y variable\n",
    "    ann.add(\n",
    "            keras.layers.Dense(\n",
    "            units = output_shape, \n",
    "            activation='softmax'\n",
    "            )\n",
    "        )\n",
    "    \n",
    "    ## Once we have defined the architecture of \n",
    "    # our ANN, we call compile() to convert the model to tensors.\n",
    "    ann.compile(\n",
    "        optimizer='adam', \n",
    "        loss='binary_crossentropy', \n",
    "        metrics=['accuracy']\n",
    "        )\n",
    "    return ann\n",
    "\n",
    "## Calling our function\n",
    "simple_ann = get_simple_ann(\n",
    "    input_shape = input_shape,\n",
    "    output_shape = n_classes\n",
    "    )\n",
    "\n",
    "## Fitting to training data\n",
    "simple_ann.fit(\n",
    "    X_train,\n",
    "    y_train,\n",
    "    batch_size=100, \n",
    "    epochs=150,\n",
    "    verbose=False\n",
    "    )\n",
    "\n",
    "## Making predictions\n",
    "# argmax() here is used to 'flatten' the matrix form of the \n",
    "# dependant variable (as seen above) into a vector of integers \n",
    "# which correspond to classes. \n",
    "predictions = simple_ann.predict(X_test).argmax(axis=1) \n",
    "\n",
    "## Accuracy score\n",
    "accuracy = accuracy_score(y_test.argmax(axis=1),predictions)\n",
    "print(\"Accuracy of this model is: \"+\"{:1.2f}\".format(accuracy*100)+\"%\")"
   ]
  },
  {
   "attachments": {},
   "cell_type": "markdown",
   "metadata": {},
   "source": [
    "#### Visualizing the ANN\n",
    "![image](fig2.png)\n",
    "\n",
    "From the code above, we are constructing an ANN like the one in this diagram. We have four features in our data, and so we have four input nodes to receive each value. If you know the theory of ANNs, you know that each node will apply a weight and an activation function to the input to determine the number it will output to every node in the next layer. However, we use a dropout layer, which will select some nodes to nullify. We have two such layers. Finally, we have three output nodes, representing the probability that the given case is of a certain species. Therefore, for each case we predict, we output three numbers. We conclude that whichever of those three numbers is largest corresponds to the most likely species for the given case. \n",
    "### Evaluating this model\n",
    "As we can see from the output above, this model was 70% accurate, meaning it classified 70% of cases as the correct species. \n",
    "\n",
    "### Why we need hypertuning\n",
    "Is 70% accuracy the best we can do? What if we had more than 12 nodes in each layer? Or fewer? What if we added more layers? Or increased the dropout rate?\n",
    "Hypertuning is how we experimentally verify which parameters are best.\n",
    "\n",
    "To accomplish this, we could try repeatedly fitting the model with every possible combination of parameters (this is called 'Grid Search'). However, for many parameters, this would require a lot of fittings. Instead, the ['keras tuner'](https://keras.io/guides/keras_tuner/getting_started/) library was created to efficiently trial different hyperparameter selections."
   ]
  },
  {
   "attachments": {},
   "cell_type": "markdown",
   "metadata": {},
   "source": [
    "### A Hypermodel Class\n",
    "In this section, we provide the code for a hypermodel class. You can copy this class into your own project and try it. If you are familiar with inheritance, you could also extend this class for more complex functionality, such as time-series or computer vision problems. This class provides a solid base from which to trial many different kinds of ANNs and apply it to many kinds of machine learning tasks. You could easily reuse this class for regression, or a different classification problem.\n",
    "The purpose of this class is to:\n",
    "- Receive a dictionary describing the desired hyperparameters to explore\n",
    "- Receive the parameters of how you wish to fit the model (epochs, batch size, etc)\n",
    "- Efficiently discover the optimum hyperparameters\n",
    "- Returns the 'best' discovered model\n",
    "\n",
    "The following is a lot of code, so if you are not interested in the details, you can skip reading the following code block. In the next section, we shall demonstrate the use of the class, which you can go on to reading instead. Like many classes, you don't necessarily need to know all the details of *how* it works, only how to use it. \n",
    "\n",
    "If you would like to understand this class in detail, we recommend reading the documentation on the [keras-tuner library](https://keras.io/guides/keras_tuner/getting_started/).\n",
    "\n",
    "To help explain the class, we also introduce some more terminology.\n",
    "\n",
    "#### Terminology\n",
    "\n",
    "- Objective: One of the metrics. The 'best' model is the one with the highest value. \n",
    "- Hypergrid: Is a dictionary-like structure that specifies what values for each parameter to trial.\n",
    "- Callbacks: In this context, the callback is a special type of function called at the end of each epoch. In this example, we use 'EarlyStopping,' which is helpful for reducing computation time. With early stopping, once each additional epoch only improves the objective slightly, we conclude we have reached a point of diminishing return and finish the fitting process without completing every epoch.\n",
    "- Width: The number of units is a particular layer.\n",
    "- Depth: The number of layers in an ANN.\n",
    "- Validation split: By default, the tuner selects the model with the best value for the objective as calculated on training data. However, we can optionally specify a validation split size, whereby a random sample of training data will be withheld, and we select the best model as validated against that holdout data. This can be helpful in avoiding overfitting to training data.\n",
    "- Activation function: a function which each node in a layer uses to convert the inputted values into the outputted values. A sigmoid function would be appropriate for the activation function of an output node doing classification, while no function would be appropriate for a regression. For a discussion on the different types of common functions, see [this article](https://towardsdatascience.com/activation-functions-neural-networks-1cbd9f8d91d6)."
   ]
  },
  {
   "cell_type": "code",
   "execution_count": 7,
   "metadata": {},
   "outputs": [],
   "source": [
    "class ANNHyperModel(kt.HyperModel):\n",
    "    \"\"\"\n",
    "    Given a set of hyperparameters to explore, \n",
    "    uses keras-tuner to discover the best settings \n",
    "    and returns the optimum model.\n",
    "    \"\"\"\n",
    "    \n",
    "    _default_hypergrid = {\n",
    "            'width':{\n",
    "                'min':12,\n",
    "                'max':12,\n",
    "                'step':1\n",
    "                },\n",
    "            'depth':{\n",
    "                'min':1,\n",
    "                'max':1,\n",
    "                'step':1\n",
    "                },\n",
    "            'droprate':{\n",
    "                'min':.8,\n",
    "                'max':.8,\n",
    "                'step':.1\n",
    "                },\n",
    "            'activation':{\n",
    "                'values':['relu']\n",
    "            },\n",
    "            'learning_rate':{\n",
    "                'values':[1e-2]\n",
    "            }\n",
    "        }\n",
    "    \"\"\"If the user does not input values for the \n",
    "    following hyperparameters, we use these values by default.\"\"\"\n",
    "    \n",
    "    def __init__(\n",
    "                self,\n",
    "                input_shape:tuple|int,\n",
    "                n_outputs:int,\n",
    "                hypergrid:dict = None,\n",
    "                output_activation:str = 'sigmoid',\n",
    "                epochs:int = 1,\n",
    "                batch_size:int = 100,\n",
    "                optimizer_class = keras.optimizers.Adam,\n",
    "                loss: Loss = SparseCategoricalCrossentropy(\n",
    "                                        from_logits=True\n",
    "                                        ),\n",
    "                metrics: list[str] = ['accuracy'],\n",
    "                objective:str = \"accuracy\",\n",
    "                directory:str = None,\n",
    "                project_name:str = \"kt_hyperband\",\n",
    "                factor:int = 3,\n",
    "                verbose:int = 0,\n",
    "                callbacks:list = []\n",
    "    ):\n",
    "        \"\"\"\n",
    "        Args:\n",
    "        - input_shape (tuple | int): Dimensions of a single input case. \n",
    "        Provide an int of n if one case is a 1-d array of length n.\n",
    "\n",
    "        - n_outputs (int): Number of output nodes. One for regression or \n",
    "        binary-classification. Multiple for \n",
    "        multi-regression/multi-classification.\n",
    "\n",
    "        - hypergrid (dict, optional): Dictionary describing hyperparams \n",
    "        to trial, see default '_default_hypergrid' for example. \n",
    "        Defaults to None.\n",
    "\n",
    "        - output_activation (str, optional): Output layer activation \n",
    "        function. Defaults to 'sigmoid'.\n",
    "\n",
    "        - epochs (int, optional): Training epochs. Defaults to 1.\n",
    "\n",
    "        - batch_size (int, optional): training batch size. \n",
    "        Defaults to 100.\n",
    "\n",
    "        - optimizer_class (_type_, optional): Optimizer class. \n",
    "        Input the class type, not an instantiation. Defaults to \n",
    "        keras.optimizers.Adam.\n",
    "\n",
    "        - loss (tf.keras.losses.Loss, optional): training loss function. \n",
    "        Defaults to \n",
    "        keras.losses.SparseCategoricalCrossentropy(from_logits=True).\n",
    "        \n",
    "        - metrics (list[str], optional): Training metrics. Defaults \n",
    "        to ['accuracy'].\n",
    "        \n",
    "        - objective (str, optional): Must be included in 'metrics.' \n",
    "        Tuning process will select the model with the best performance\n",
    "        by this metric. Defaults to \"accuracy\".\n",
    "        \n",
    "        - directory (str, optional): When used, tuning process creates \n",
    "        a directory to hold data on disk. Deleted afterwards. \n",
    "        Be careful not to use existing dir name. Defaults to \"None\".\n",
    "        \n",
    "        - project_name (str, optional): File naming stem in directory. \n",
    "        Defaults to \"kt_hyperband\".\n",
    "\n",
    "        -factor (int, optional): Reduction factor for epochs at each \n",
    "        tuning trial. Defaults to 3.\n",
    "\n",
    "        -verbose (int, optional): Set to true to print details of \n",
    "        fitting process. Defaults to 0.\n",
    "        \n",
    "        - callbacks (list, optional): A keras.callback function called \n",
    "        after each epoch. Defaults to [].\n",
    "        \"\"\"\n",
    "        self.input_shape = input_shape\n",
    "        self.n_outputs = n_outputs\n",
    "        self.hp = kt.HyperParameters()\n",
    "        self.hypergrid = hypergrid\n",
    "        self.output_activation = output_activation\n",
    "        self.epochs = epochs\n",
    "        self.optimizer_class = optimizer_class\n",
    "        self.loss = loss\n",
    "        self.metrics = metrics\n",
    "        self.objective = objective\n",
    "        self.callbacks = callbacks\n",
    "        self.directory = directory\n",
    "        self.project_name = project_name\n",
    "        self.factor = factor\n",
    "        self.verbose = verbose\n",
    "        self.batch_size = batch_size\n",
    "        self.history = None # null before training\n",
    "\n",
    "    def get_hypergrid(self):\n",
    "        \"\"\"Returns the user-specified hypergrid, plus the default items \n",
    "        (from _default_hypergrid) where the user did not specify \n",
    "        values\"\"\"\n",
    "        output = copy.deepcopy(ANNHyperModel._default_hypergrid)\n",
    "        if self.hypergrid is None:\n",
    "             self.hypergrid = {}\n",
    "        output.update(self.hypergrid)\n",
    "        return output\n",
    "\n",
    "    ## If you want to try more complex types of ANN, you should extend \n",
    "    # this class and overwrite this function with your own logic. \n",
    "    # For example, instead of adding Dense layers, you could add LSTM \n",
    "    # layers instead to create an RNN. \n",
    "    def build(self,hp:kt.HyperParameters):\n",
    "        \"\"\"Using an instance of kt.HyperParameters, we build and \n",
    "        compile a Keras Sequential instance with \n",
    "        some parameters filled by HyperParameter objects instead of \n",
    "        literal values. The Keras Hyperband object can then execute \n",
    "        a search function using this hypermodel to discover the \n",
    "        best model setting.\"\"\"\n",
    "\n",
    "        ## here we take the hypergrid and use it to construct a set of \n",
    "        # kt.HyperParameter objects\n",
    "        hypergrid = self.get_hypergrid()\n",
    "        width_hyperparam = hp.Int(\n",
    "              'units', \n",
    "              min_value=hypergrid['width']['min'], \n",
    "              max_value=hypergrid['width']['max'], \n",
    "              step=hypergrid['width']['step']\n",
    "              )\n",
    "        depth_hyperparam = hp.Int(\n",
    "              'layers', \n",
    "              min_value=hypergrid['depth']['min'], \n",
    "              max_value=hypergrid['depth']['max'], \n",
    "              step=hypergrid['depth']['step']\n",
    "              )\n",
    "        droprate_hyperparam = hp.Float(\n",
    "              'droprate', \n",
    "              min_value=hypergrid['droprate']['min'], \n",
    "              max_value=hypergrid['droprate']['max'], \n",
    "              step=hypergrid['droprate']['step']\n",
    "              )\n",
    "        activation_hyperparam = hp.Choice(\n",
    "              'activation', \n",
    "              values=hypergrid['activation']['values']\n",
    "              )\n",
    "        learning_rate_hyperparam = hp.Choice(\n",
    "              'learning_rate', \n",
    "              values=hypergrid['learning_rate']['values']\n",
    "              )\n",
    "\n",
    "        model = keras.Sequential()\n",
    "        model.add(\n",
    "              keras.layers.Input(\n",
    "              shape=self.input_shape\n",
    "              )\n",
    "            )\n",
    "        \n",
    "        ## Add a Dense-Dropout combo for each layer in the depth param\n",
    "        for layer_number in range(0,depth_hyperparam):\n",
    "              model.add(\n",
    "                    keras.layers.Dense(\n",
    "                        units=width_hyperparam,\n",
    "                        activation=activation_hyperparam,\n",
    "                        name = 'Dense_'+str(layer_number)\n",
    "                        )\n",
    "                    )\n",
    "              model.add(\n",
    "                   keras.layers.Dropout(droprate_hyperparam)\n",
    "              )\n",
    "        \n",
    "        model.add(\n",
    "                keras.layers.Dense(\n",
    "                self.n_outputs,activation=self.output_activation\n",
    "                )\n",
    "            ) \n",
    "\n",
    "        model.compile(\n",
    "            optimizer=self.optimizer_class(\n",
    "                learning_rate=learning_rate_hyperparam\n",
    "                ),\n",
    "            loss=self.loss,\n",
    "            metrics=self.metrics\n",
    "            )\n",
    "        ## This function must return an instance of a keras \n",
    "        # model that includes kt.Hyperparamater objects\n",
    "        return model \n",
    "    \n",
    "    def _hypertune(self,X_train, y_train, validation_size = 0):\n",
    "        \"\"\"This function executes the hypertuning of the\n",
    "          built hypermodel\"\"\"\n",
    "        self.build(self.hp)\n",
    "        \n",
    "        self.tuner = kt.Hyperband(\n",
    "            ## We can input an instance of the custom class here (self) \n",
    "            # and the 'build' function will be called by keras \n",
    "            # Hyperband. \n",
    "                self, \n",
    "                objective= self.objective,\n",
    "                max_epochs= self.epochs,\n",
    "                factor=self.factor,\n",
    "                hyperband_iterations=10,\n",
    "                directory=self.directory,\n",
    "                project_name=self.project_name\n",
    "                )\n",
    "        ## use validation split if validation_size > 0\n",
    "        validation_sets = None\n",
    "        if validation_size > 0:\n",
    "            X_train, X_val, y_train, y_val = train_test_split(\n",
    "                    X_train, \n",
    "                    y_train, \n",
    "                    test_size=validation_size\n",
    "                    )\n",
    "            validation_sets = (X_val,y_val)\n",
    "\n",
    "        self.tuner.search(\n",
    "               X_train,\n",
    "               y_train, \n",
    "               epochs=self.epochs, \n",
    "               callbacks=self.callbacks, \n",
    "               verbose=self.verbose,\n",
    "               batch_size=100,\n",
    "               use_multiprocessing=True,\n",
    "               validation_data=validation_sets\n",
    "               )\n",
    "        self.best_hyperparams=self.tuner.get_best_hyperparameters()[0]\n",
    "\n",
    "        best_model = self.tuner.hypermodel.build(self.best_hyperparams)\n",
    "\n",
    "        return best_model\n",
    "    \n",
    "    def execute(self,X,y,validation_size = 0):\n",
    "        \"\"\"\n",
    "        Fit the model on training data.\n",
    "\n",
    "        Args:\n",
    "            - X (_type_): predictors, ndarray\n",
    "            - y (_type_): dependant, ndarray or 1-d array\n",
    "            - validation_size (int, optional): If > 0, tuner will \n",
    "            record validation performance of the objective. Set \n",
    "            objective to 'val_<metric name>' to select best model \n",
    "            on validation data. Defaults to 0.\n",
    "\n",
    "        Raises:\n",
    "            - e: If errors occur during fitting, a 'final' clause is \n",
    "            invoked to ensure the tuning directory is still deleted. \n",
    "        \"\"\"\n",
    "        ## Use finally clause to ensure the tuning dir is deleted even \n",
    "        # if there is an error.This failsafe is used because 'leftover' \n",
    "        # tuning directories from previous fittings can cause errors.\n",
    "        try:\n",
    "            self.model = self._hypertune(X,y,validation_size)\n",
    "            self.history = self.model.fit(\n",
    "                X,\n",
    "                y, \n",
    "                batch_size=self.batch_size, \n",
    "                epochs=self.epochs,\n",
    "                callbacks=self.callbacks, \n",
    "                verbose = self.verbose)\n",
    "        except Exception as e:\n",
    "            raise e\n",
    "        \n",
    "        finally:\n",
    "            try:\n",
    "                  shutil.rmtree(self.directory)\n",
    "            except FileNotFoundError as e:\n",
    "                 pass\n"
   ]
  },
  {
   "attachments": {},
   "cell_type": "markdown",
   "metadata": {},
   "source": [
    "### Demonstrating Hypermodel Class\n",
    "You may skip reading the detail of how the `ANNHypermodel` class works and instead just review the following section to see a demonstration use case. "
   ]
  },
  {
   "cell_type": "code",
   "execution_count": 8,
   "metadata": {},
   "outputs": [
    {
     "ename": "OSError",
     "evalue": "[WinError 4393] Das im Analysepunktpuffer vorhandene Kennzeichen ist ungültig: 'kt-dir\\\\kt_hyperband\\\\trial_0193'",
     "output_type": "error",
     "traceback": [
      "\u001b[1;31m---------------------------------------------------------------------------\u001b[0m",
      "\u001b[1;31mOSError\u001b[0m                                   Traceback (most recent call last)",
      "Cell \u001b[1;32mIn[8], line 38\u001b[0m\n\u001b[0;32m      1\u001b[0m hypergrid \u001b[39m=\u001b[39m {\n\u001b[0;32m      2\u001b[0m                 \u001b[39m'\u001b[39m\u001b[39mwidth\u001b[39m\u001b[39m'\u001b[39m:{\n\u001b[0;32m      3\u001b[0m                     \u001b[39m'\u001b[39m\u001b[39mmin\u001b[39m\u001b[39m'\u001b[39m:\u001b[39m16\u001b[39m,\n\u001b[1;32m   (...)\u001b[0m\n\u001b[0;32m     19\u001b[0m                 }\n\u001b[0;32m     20\u001b[0m             }\n\u001b[0;32m     22\u001b[0m model \u001b[39m=\u001b[39m ANNHyperModel(\n\u001b[0;32m     23\u001b[0m     input_shape \u001b[39m=\u001b[39minput_shape,\n\u001b[0;32m     24\u001b[0m     n_outputs \u001b[39m=\u001b[39m n_classes,\n\u001b[1;32m   (...)\u001b[0m\n\u001b[0;32m     35\u001b[0m         ]\n\u001b[0;32m     36\u001b[0m     )\n\u001b[1;32m---> 38\u001b[0m model\u001b[39m.\u001b[39;49mexecute(X_train,y_train,validation_size\u001b[39m=\u001b[39;49m\u001b[39m.2\u001b[39;49m)\n",
      "Cell \u001b[1;32mIn[7], line 289\u001b[0m, in \u001b[0;36mANNHyperModel.execute\u001b[1;34m(self, X, y, validation_size)\u001b[0m\n\u001b[0;32m    287\u001b[0m \u001b[39mfinally\u001b[39;00m:\n\u001b[0;32m    288\u001b[0m     \u001b[39mtry\u001b[39;00m:\n\u001b[1;32m--> 289\u001b[0m           shutil\u001b[39m.\u001b[39;49mrmtree(\u001b[39mself\u001b[39;49m\u001b[39m.\u001b[39;49mdirectory)\n\u001b[0;32m    290\u001b[0m     \u001b[39mexcept\u001b[39;00m \u001b[39mFileNotFoundError\u001b[39;00m \u001b[39mas\u001b[39;00m e:\n\u001b[0;32m    291\u001b[0m          \u001b[39mpass\u001b[39;00m\n",
      "File \u001b[1;32m~\\AppData\\Local\\Programs\\Python\\Python310\\lib\\shutil.py:749\u001b[0m, in \u001b[0;36mrmtree\u001b[1;34m(path, ignore_errors, onerror)\u001b[0m\n\u001b[0;32m    747\u001b[0m     \u001b[39m# can't continue even if onerror hook returns\u001b[39;00m\n\u001b[0;32m    748\u001b[0m     \u001b[39mreturn\u001b[39;00m\n\u001b[1;32m--> 749\u001b[0m \u001b[39mreturn\u001b[39;00m _rmtree_unsafe(path, onerror)\n",
      "File \u001b[1;32m~\\AppData\\Local\\Programs\\Python\\Python310\\lib\\shutil.py:614\u001b[0m, in \u001b[0;36m_rmtree_unsafe\u001b[1;34m(path, onerror)\u001b[0m\n\u001b[0;32m    612\u001b[0m         onerror(os\u001b[39m.\u001b[39mpath\u001b[39m.\u001b[39mislink, fullname, sys\u001b[39m.\u001b[39mexc_info())\n\u001b[0;32m    613\u001b[0m         \u001b[39mcontinue\u001b[39;00m\n\u001b[1;32m--> 614\u001b[0m     _rmtree_unsafe(fullname, onerror)\n\u001b[0;32m    615\u001b[0m \u001b[39melse\u001b[39;00m:\n\u001b[0;32m    616\u001b[0m     \u001b[39mtry\u001b[39;00m:\n",
      "File \u001b[1;32m~\\AppData\\Local\\Programs\\Python\\Python310\\lib\\shutil.py:614\u001b[0m, in \u001b[0;36m_rmtree_unsafe\u001b[1;34m(path, onerror)\u001b[0m\n\u001b[0;32m    612\u001b[0m         onerror(os\u001b[39m.\u001b[39mpath\u001b[39m.\u001b[39mislink, fullname, sys\u001b[39m.\u001b[39mexc_info())\n\u001b[0;32m    613\u001b[0m         \u001b[39mcontinue\u001b[39;00m\n\u001b[1;32m--> 614\u001b[0m     _rmtree_unsafe(fullname, onerror)\n\u001b[0;32m    615\u001b[0m \u001b[39melse\u001b[39;00m:\n\u001b[0;32m    616\u001b[0m     \u001b[39mtry\u001b[39;00m:\n",
      "File \u001b[1;32m~\\AppData\\Local\\Programs\\Python\\Python310\\lib\\shutil.py:600\u001b[0m, in \u001b[0;36m_rmtree_unsafe\u001b[1;34m(path, onerror)\u001b[0m\n\u001b[0;32m    598\u001b[0m         entries \u001b[39m=\u001b[39m \u001b[39mlist\u001b[39m(scandir_it)\n\u001b[0;32m    599\u001b[0m \u001b[39mexcept\u001b[39;00m \u001b[39mOSError\u001b[39;00m:\n\u001b[1;32m--> 600\u001b[0m     onerror(os\u001b[39m.\u001b[39;49mscandir, path, sys\u001b[39m.\u001b[39;49mexc_info())\n\u001b[0;32m    601\u001b[0m     entries \u001b[39m=\u001b[39m []\n\u001b[0;32m    602\u001b[0m \u001b[39mfor\u001b[39;00m entry \u001b[39min\u001b[39;00m entries:\n",
      "File \u001b[1;32m~\\AppData\\Local\\Programs\\Python\\Python310\\lib\\shutil.py:597\u001b[0m, in \u001b[0;36m_rmtree_unsafe\u001b[1;34m(path, onerror)\u001b[0m\n\u001b[0;32m    595\u001b[0m \u001b[39mdef\u001b[39;00m \u001b[39m_rmtree_unsafe\u001b[39m(path, onerror):\n\u001b[0;32m    596\u001b[0m     \u001b[39mtry\u001b[39;00m:\n\u001b[1;32m--> 597\u001b[0m         \u001b[39mwith\u001b[39;00m os\u001b[39m.\u001b[39;49mscandir(path) \u001b[39mas\u001b[39;00m scandir_it:\n\u001b[0;32m    598\u001b[0m             entries \u001b[39m=\u001b[39m \u001b[39mlist\u001b[39m(scandir_it)\n\u001b[0;32m    599\u001b[0m     \u001b[39mexcept\u001b[39;00m \u001b[39mOSError\u001b[39;00m:\n",
      "\u001b[1;31mOSError\u001b[0m: [WinError 4393] Das im Analysepunktpuffer vorhandene Kennzeichen ist ungültig: 'kt-dir\\\\kt_hyperband\\\\trial_0193'"
     ]
    }
   ],
   "source": [
    "hypergrid = {\n",
    "                'width':{\n",
    "                    'min':16,\n",
    "                    'max':64,\n",
    "                    'step':12\n",
    "                    },\n",
    "                'depth':{\n",
    "                    'min':1,\n",
    "                    'max':4,\n",
    "                    'step':1\n",
    "                    },\n",
    "                'droprate':{\n",
    "                    'min':0.1,\n",
    "                    'max':0.7,\n",
    "                    'step':0.2\n",
    "                    },\n",
    "                'activation':{\n",
    "                    'values':['relu']\n",
    "                }\n",
    "            }\n",
    "\n",
    "model = ANNHyperModel(\n",
    "    input_shape =input_shape,\n",
    "    n_outputs = n_classes,\n",
    "    epochs = 150,\n",
    "    loss = keras.losses.BinaryCrossentropy(),\n",
    "    hypergrid = hypergrid,\n",
    "    objective=\"val_accuracy\",\n",
    "    directory = 'kt-dir',\n",
    "    callbacks=[\n",
    "        EarlyStopping(\n",
    "            monitor='loss', \n",
    "            patience=5\n",
    "            )\n",
    "        ]\n",
    "    )\n",
    "\n",
    "model.execute(X_train,y_train,validation_size=.2)"
   ]
  },
  {
   "attachments": {},
   "cell_type": "markdown",
   "metadata": {},
   "source": [
    "#### Making predictions\n",
    "Now that we have our fitted model, let us evaluate its predictive power. In this context, we're going to use accuracy as our evaluation metric. Accuracy is the portion of classifications which were correct. Typically, this metric is suitable when there are roughly equal numbers of classes in the data and we consider any kind of misclassification as equally undesirable."
   ]
  },
  {
   "cell_type": "code",
   "execution_count": null,
   "metadata": {},
   "outputs": [
    {
     "name": "stdout",
     "output_type": "stream",
     "text": [
      "2/2 [==============================] - 0s 4ms/step\n",
      "Accuracy of this model is: 98.00%\n"
     ]
    }
   ],
   "source": [
    "y_pred = model.model.predict(X_test).argmax(axis=1)\n",
    "\n",
    "accuracy = accuracy_score(y_test.argmax(axis=1),y_pred)\n",
    "print(\"Accuracy of this model is: \"+\"{:1.2f}\".format(accuracy*100)+\"%\")"
   ]
  },
  {
   "attachments": {},
   "cell_type": "markdown",
   "metadata": {},
   "source": [
    "Success!! The best model discovered by our hypertuner was 98% accurate, a big improvement over 70% in our basic model. "
   ]
  },
  {
   "attachments": {},
   "cell_type": "markdown",
   "metadata": {},
   "source": [
    "#### Fitting history\n",
    "The history parameter helps us monitor how effectively the fitting process converged on the optimum accuracy. We can construct a timeline which shows us how the accuracy metric improved at each epoch as the optimizer progressively improved the weightings. Note that once a point of diminishing return is reached, the EarlyStopping callback function will conclude the fitting process early to save computation time, which is why we cannot see the requested 150 epochs. \n",
    "\n",
    "Practitioners should expect to see a steady increase in performance over epochs. A history showing no improvement over epochs would indicate a problem with the model. "
   ]
  },
  {
   "cell_type": "code",
   "execution_count": null,
   "metadata": {},
   "outputs": [
    {
     "data": {
      "text/plain": [
       "<Axes: xlabel='Epochs', ylabel='Accuracy'>"
      ]
     },
     "execution_count": 20,
     "metadata": {},
     "output_type": "execute_result"
    },
    {
     "data": {
      "image/png": "[encoded data removed]",
      "text/plain": [
       "<Figure size 640x480 with 1 Axes>"
      ]
     },
     "metadata": {},
     "output_type": "display_data"
    }
   ],
   "source": [
    "pd.Series(\n",
    "    model.history.history['accuracy']\n",
    "    ).plot(\n",
    "        xlabel='Epochs',\n",
    "        ylabel=\"Accuracy\"\n",
    "        )"
   ]
  },
  {
   "attachments": {},
   "cell_type": "markdown",
   "metadata": {},
   "source": [
    "#### What were the best hyperparameters?\n",
    "The `best_hyperparams` property will tell us which of the parameters we trialed was best. Note that some of the 'tuner' parameters are internal considerations for the tuner and not important to us for now. "
   ]
  },
  {
   "cell_type": "code",
   "execution_count": null,
   "metadata": {},
   "outputs": [
    {
     "data": {
      "text/plain": [
       "{'units': 64,\n",
       " 'layers': 4,\n",
       " 'droprate': 0.1,\n",
       " 'activation': 'relu',\n",
       " 'learning_rate': 0.01,\n",
       " 'tuner/epochs': 6,\n",
       " 'tuner/initial_epoch': 2,\n",
       " 'tuner/bracket': 4,\n",
       " 'tuner/round': 1,\n",
       " 'tuner/trial_id': '0031'}"
      ]
     },
     "execution_count": 21,
     "metadata": {},
     "output_type": "execute_result"
    }
   ],
   "source": [
    "model.best_hyperparams.values"
   ]
  },
  {
   "attachments": {},
   "cell_type": "markdown",
   "metadata": {},
   "source": [
    "### What does our model look like?\n",
    "We can use the `summary()` function to print out a basic summary fo our model's architecture. "
   ]
  },
  {
   "cell_type": "code",
   "execution_count": null,
   "metadata": {},
   "outputs": [
    {
     "name": "stdout",
     "output_type": "stream",
     "text": [
      "Model: \"sequential_1\"\n",
      "_________________________________________________________________\n",
      " Layer (type)                Output Shape              Param #   \n",
      "=================================================================\n",
      " Dense_0 (Dense)             (None, 64)                320       \n",
      "                                                                 \n",
      " dropout_4 (Dropout)         (None, 64)                0         \n",
      "                                                                 \n",
      " Dense_1 (Dense)             (None, 64)                4160      \n",
      "                                                                 \n",
      " dropout_5 (Dropout)         (None, 64)                0         \n",
      "                                                                 \n",
      " Dense_2 (Dense)             (None, 64)                4160      \n",
      "                                                                 \n",
      " dropout_6 (Dropout)         (None, 64)                0         \n",
      "                                                                 \n",
      " Dense_3 (Dense)             (None, 64)                4160      \n",
      "                                                                 \n",
      " dropout_7 (Dropout)         (None, 64)                0         \n",
      "                                                                 \n",
      " dense_1 (Dense)             (None, 3)                 195       \n",
      "                                                                 \n",
      "=================================================================\n",
      "Total params: 12,995\n",
      "Trainable params: 12,995\n",
      "Non-trainable params: 0\n",
      "_________________________________________________________________\n"
     ]
    }
   ],
   "source": [
    "model.model.summary()"
   ]
  },
  {
   "attachments": {},
   "cell_type": "markdown",
   "metadata": {},
   "source": [
    "### Evaluating Performance\n",
    "We know the model was 96% accurate, but let us examine more deeply how well it classified each species. We shall use a confusion matrix. "
   ]
  },
  {
   "cell_type": "code",
   "execution_count": null,
   "metadata": {},
   "outputs": [
    {
     "data": {
      "text/plain": [
       "Text(0.5, 1.0, 'Confusion Matrix')"
      ]
     },
     "execution_count": 23,
     "metadata": {},
     "output_type": "execute_result"
    },
    {
     "data": {
      "image/png": "[encoded data removed]",
      "text/plain": [
       "<Figure size 500x500 with 1 Axes>"
      ]
     },
     "metadata": {},
     "output_type": "display_data"
    }
   ],
   "source": [
    "matplotlib.rc('figure', figsize=(5,5))\n",
    "ConfusionMatrixDisplay(\n",
    "    confusion_matrix(\n",
    "        y_test.argmax(axis=1), \n",
    "        y_pred)\n",
    "        ).plot(\n",
    "            colorbar=False\n",
    "            )\n",
    "plt.title('Confusion Matrix')"
   ]
  },
  {
   "attachments": {},
   "cell_type": "markdown",
   "metadata": {},
   "source": [
    "### Interpreting the model\n",
    "Most consumers of machine learning models want to know *why* a model gives the output it does. This can be a difficult task for a complex neural network, with many interactions nested in the algorithm. In a linear model, each feature has a positive or negative impact on the outcome. In an interactive model, the direction and size of effect is conditional and not so simple to describe. \n",
    "A common method for explaining why models output as they do is 'permutational feature importance' in which we calculate the loss of accuracy in a model when it does not have a given feature available. However, this is a lot of repeated computation when you have many features and ANNs can be slow for this. \n",
    "\n",
    "Another approach is [SHapley Additive exPlanations (SHAP)](https://shap.readthedocs.io/en/latest/), which uses an algorithm based on game-theory as well as many computational optimizations, to efficiently calculate 'SHAP values' for an ANN. Here we shall demonstrate SHAP. A larger SHAP value indicates the feature is more influential. "
   ]
  },
  {
   "cell_type": "code",
   "execution_count": null,
   "metadata": {},
   "outputs": [
    {
     "ename": "AttributeError",
     "evalue": "in user code:\n\n    File \"c:\\Users\\jocollin\\OneDrive - uni-mannheim.de\\repos\\DMU\\DMU_NN_TUTORIAL\\venv\\lib\\site-packages\\shap\\explainers\\_deep\\deep_tf.py\", line 252, in grad_graph  *\n        x_grad = tape.gradient(out, shap_rAnD)\n    File \"c:\\Users\\jocollin\\OneDrive - uni-mannheim.de\\repos\\DMU\\DMU_NN_TUTORIAL\\venv\\lib\\site-packages\\shap\\explainers\\_deep\\deep_tf.py\", line 378, in custom_grad\n        out = op_handlers[type_name](self, op, *grads) # we cut off the shap_ prefex before the lookup\n    File \"c:\\Users\\jocollin\\OneDrive - uni-mannheim.de\\repos\\DMU\\DMU_NN_TUTORIAL\\venv\\lib\\site-packages\\shap\\explainers\\_deep\\deep_tf.py\", line 562, in handler\n        var = explainer._variable_inputs(op)\n    File \"c:\\Users\\jocollin\\OneDrive - uni-mannheim.de\\repos\\DMU\\DMU_NN_TUTORIAL\\venv\\lib\\site-packages\\shap\\explainers\\_deep\\deep_tf.py\", line 222, in _variable_inputs\n        out = np.zeros(len(op.inputs), dtype=np.bool)\n    File \"c:\\Users\\jocollin\\OneDrive - uni-mannheim.de\\repos\\DMU\\DMU_NN_TUTORIAL\\venv\\lib\\site-packages\\numpy\\__init__.py\", line 305, in __getattr__\n        raise AttributeError(__former_attrs__[attr])\n\n    AttributeError: module 'numpy' has no attribute 'bool'.\n    `np.bool` was a deprecated alias for the builtin `bool`. To avoid this error in existing code, use `bool` by itself. Doing this will not modify any behavior and is safe. If you specifically wanted the numpy scalar type, use `np.bool_` here.\n    The aliases was originally deprecated in NumPy 1.20; for more details and guidance see the original release note at:\n        https://numpy.org/devdocs/release/1.20.0-notes.html#deprecations\n",
     "output_type": "error",
     "traceback": [
      "\u001b[1;31m---------------------------------------------------------------------------\u001b[0m",
      "\u001b[1;31mAttributeError\u001b[0m                            Traceback (most recent call last)",
      "Cell \u001b[1;32mIn[24], line 2\u001b[0m\n\u001b[0;32m      1\u001b[0m deep_explain \u001b[39m=\u001b[39m shap\u001b[39m.\u001b[39mDeepExplainer(model\u001b[39m.\u001b[39mmodel, X_test)\n\u001b[1;32m----> 2\u001b[0m deep_shap_values\u001b[39m=\u001b[39m deep_explain\u001b[39m.\u001b[39;49mshap_values(X_test[\u001b[39m1\u001b[39;49m:\u001b[39m5\u001b[39;49m])\n\u001b[0;32m      4\u001b[0m matplotlib\u001b[39m.\u001b[39mrc(\u001b[39m'\u001b[39m\u001b[39mfigure\u001b[39m\u001b[39m'\u001b[39m, figsize\u001b[39m=\u001b[39m(\u001b[39m10\u001b[39m,\u001b[39m10\u001b[39m))\n\u001b[0;32m      5\u001b[0m pd\u001b[39m.\u001b[39mSeries(\n\u001b[0;32m      6\u001b[0m     deep_shap_values[\u001b[39m0\u001b[39m][\u001b[39m0\u001b[39m],\n\u001b[0;32m      7\u001b[0m     index\u001b[39m=\u001b[39mfeature_names\n\u001b[1;32m   (...)\u001b[0m\n\u001b[0;32m     10\u001b[0m         title\u001b[39m=\u001b[39m\u001b[39m'\u001b[39m\u001b[39mSHAP Values\u001b[39m\u001b[39m'\u001b[39m\n\u001b[0;32m     11\u001b[0m         )\n",
      "File \u001b[1;32mc:\\Users\\jocollin\\OneDrive - uni-mannheim.de\\repos\\DMU\\DMU_NN_TUTORIAL\\venv\\lib\\site-packages\\shap\\explainers\\_deep\\__init__.py:124\u001b[0m, in \u001b[0;36mDeep.shap_values\u001b[1;34m(self, X, ranked_outputs, output_rank_order, check_additivity)\u001b[0m\n\u001b[0;32m     90\u001b[0m \u001b[39mdef\u001b[39;00m \u001b[39mshap_values\u001b[39m(\u001b[39mself\u001b[39m, X, ranked_outputs\u001b[39m=\u001b[39m\u001b[39mNone\u001b[39;00m, output_rank_order\u001b[39m=\u001b[39m\u001b[39m'\u001b[39m\u001b[39mmax\u001b[39m\u001b[39m'\u001b[39m, check_additivity\u001b[39m=\u001b[39m\u001b[39mTrue\u001b[39;00m):\n\u001b[0;32m     91\u001b[0m \u001b[39m    \u001b[39m\u001b[39m\"\"\" Return approximate SHAP values for the model applied to the data given by X.\u001b[39;00m\n\u001b[0;32m     92\u001b[0m \n\u001b[0;32m     93\u001b[0m \u001b[39m    Parameters\u001b[39;00m\n\u001b[1;32m   (...)\u001b[0m\n\u001b[0;32m    122\u001b[0m \u001b[39m        were chosen as \"top\".\u001b[39;00m\n\u001b[0;32m    123\u001b[0m \u001b[39m    \"\"\"\u001b[39;00m\n\u001b[1;32m--> 124\u001b[0m     \u001b[39mreturn\u001b[39;00m \u001b[39mself\u001b[39;49m\u001b[39m.\u001b[39;49mexplainer\u001b[39m.\u001b[39;49mshap_values(X, ranked_outputs, output_rank_order, check_additivity\u001b[39m=\u001b[39;49mcheck_additivity)\n",
      "File \u001b[1;32mc:\\Users\\jocollin\\OneDrive - uni-mannheim.de\\repos\\DMU\\DMU_NN_TUTORIAL\\venv\\lib\\site-packages\\shap\\explainers\\_deep\\deep_tf.py:312\u001b[0m, in \u001b[0;36mTFDeep.shap_values\u001b[1;34m(self, X, ranked_outputs, output_rank_order, check_additivity)\u001b[0m\n\u001b[0;32m    310\u001b[0m \u001b[39m# run attribution computation graph\u001b[39;00m\n\u001b[0;32m    311\u001b[0m feature_ind \u001b[39m=\u001b[39m model_output_ranks[j,i]\n\u001b[1;32m--> 312\u001b[0m sample_phis \u001b[39m=\u001b[39m \u001b[39mself\u001b[39;49m\u001b[39m.\u001b[39;49mrun(\u001b[39mself\u001b[39;49m\u001b[39m.\u001b[39;49mphi_symbolic(feature_ind), \u001b[39mself\u001b[39;49m\u001b[39m.\u001b[39;49mmodel_inputs, joint_input)\n\u001b[0;32m    314\u001b[0m \u001b[39m# assign the attributions to the right part of the output arrays\u001b[39;00m\n\u001b[0;32m    315\u001b[0m \u001b[39mfor\u001b[39;00m l \u001b[39min\u001b[39;00m \u001b[39mrange\u001b[39m(\u001b[39mlen\u001b[39m(X)):\n",
      "File \u001b[1;32mc:\\Users\\jocollin\\OneDrive - uni-mannheim.de\\repos\\DMU\\DMU_NN_TUTORIAL\\venv\\lib\\site-packages\\shap\\explainers\\_deep\\deep_tf.py:372\u001b[0m, in \u001b[0;36mTFDeep.run\u001b[1;34m(self, out, model_inputs, X)\u001b[0m\n\u001b[0;32m    369\u001b[0m         tf_execute\u001b[39m.\u001b[39mrecord_gradient \u001b[39m=\u001b[39m tf_backprop\u001b[39m.\u001b[39mrecord_gradient\n\u001b[0;32m    371\u001b[0m     \u001b[39mreturn\u001b[39;00m final_out\n\u001b[1;32m--> 372\u001b[0m \u001b[39mreturn\u001b[39;00m \u001b[39mself\u001b[39;49m\u001b[39m.\u001b[39;49mexecute_with_overridden_gradients(anon)\n",
      "File \u001b[1;32mc:\\Users\\jocollin\\OneDrive - uni-mannheim.de\\repos\\DMU\\DMU_NN_TUTORIAL\\venv\\lib\\site-packages\\shap\\explainers\\_deep\\deep_tf.py:408\u001b[0m, in \u001b[0;36mTFDeep.execute_with_overridden_gradients\u001b[1;34m(self, f)\u001b[0m\n\u001b[0;32m    406\u001b[0m \u001b[39m# define the computation graph for the attribution values using a custom gradient-like computation\u001b[39;00m\n\u001b[0;32m    407\u001b[0m \u001b[39mtry\u001b[39;00m:\n\u001b[1;32m--> 408\u001b[0m     out \u001b[39m=\u001b[39m f()\n\u001b[0;32m    409\u001b[0m \u001b[39mfinally\u001b[39;00m:\n\u001b[0;32m    410\u001b[0m     \u001b[39m# reinstate the backpropagatable check\u001b[39;00m\n\u001b[0;32m    411\u001b[0m     \u001b[39mif\u001b[39;00m \u001b[39mhasattr\u001b[39m(tf_gradients_impl, \u001b[39m\"\u001b[39m\u001b[39m_IsBackpropagatable\u001b[39m\u001b[39m\"\u001b[39m):\n",
      "File \u001b[1;32mc:\\Users\\jocollin\\OneDrive - uni-mannheim.de\\repos\\DMU\\DMU_NN_TUTORIAL\\venv\\lib\\site-packages\\shap\\explainers\\_deep\\deep_tf.py:365\u001b[0m, in \u001b[0;36mTFDeep.run.<locals>.anon\u001b[1;34m()\u001b[0m\n\u001b[0;32m    363\u001b[0m     v \u001b[39m=\u001b[39m tf\u001b[39m.\u001b[39mconstant(data, dtype\u001b[39m=\u001b[39m\u001b[39mself\u001b[39m\u001b[39m.\u001b[39mmodel_inputs[i]\u001b[39m.\u001b[39mdtype)\n\u001b[0;32m    364\u001b[0m     inputs\u001b[39m.\u001b[39mappend(v)\n\u001b[1;32m--> 365\u001b[0m final_out \u001b[39m=\u001b[39m out(inputs)\n\u001b[0;32m    366\u001b[0m \u001b[39mtry\u001b[39;00m:\n\u001b[0;32m    367\u001b[0m     tf_execute\u001b[39m.\u001b[39mrecord_gradient \u001b[39m=\u001b[39m tf_backprop\u001b[39m.\u001b[39m_record_gradient\n",
      "File \u001b[1;32mc:\\Users\\jocollin\\OneDrive - uni-mannheim.de\\repos\\DMU\\DMU_NN_TUTORIAL\\venv\\lib\\site-packages\\tensorflow\\python\\util\\traceback_utils.py:153\u001b[0m, in \u001b[0;36mfilter_traceback.<locals>.error_handler\u001b[1;34m(*args, **kwargs)\u001b[0m\n\u001b[0;32m    151\u001b[0m \u001b[39mexcept\u001b[39;00m \u001b[39mException\u001b[39;00m \u001b[39mas\u001b[39;00m e:\n\u001b[0;32m    152\u001b[0m   filtered_tb \u001b[39m=\u001b[39m _process_traceback_frames(e\u001b[39m.\u001b[39m__traceback__)\n\u001b[1;32m--> 153\u001b[0m   \u001b[39mraise\u001b[39;00m e\u001b[39m.\u001b[39mwith_traceback(filtered_tb) \u001b[39mfrom\u001b[39;00m \u001b[39mNone\u001b[39m\n\u001b[0;32m    154\u001b[0m \u001b[39mfinally\u001b[39;00m:\n\u001b[0;32m    155\u001b[0m   \u001b[39mdel\u001b[39;00m filtered_tb\n",
      "File \u001b[1;32m~\\AppData\\Local\\Temp\\__autograph_generated_filerv794tqf.py:34\u001b[0m, in \u001b[0;36mouter_factory.<locals>.inner_factory.<locals>.tf__grad_graph\u001b[1;34m(shap_rAnD)\u001b[0m\n\u001b[0;32m     32\u001b[0m     ag__\u001b[39m.\u001b[39mif_stmt(ag__\u001b[39m.\u001b[39mld(\u001b[39mself\u001b[39m)\u001b[39m.\u001b[39mmulti_output, if_body, else_body, get_state, set_state, (\u001b[39m'\u001b[39m\u001b[39mout\u001b[39m\u001b[39m'\u001b[39m,), \u001b[39m1\u001b[39m)\n\u001b[0;32m     33\u001b[0m ag__\u001b[39m.\u001b[39mconverted_call(ag__\u001b[39m.\u001b[39mld(\u001b[39mself\u001b[39m)\u001b[39m.\u001b[39m_init_between_tensors, (ag__\u001b[39m.\u001b[39mld(out)\u001b[39m.\u001b[39mop, ag__\u001b[39m.\u001b[39mld(shap_rAnD)), \u001b[39mNone\u001b[39;00m, fscope)\n\u001b[1;32m---> 34\u001b[0m x_grad \u001b[39m=\u001b[39m ag__\u001b[39m.\u001b[39;49mconverted_call(ag__\u001b[39m.\u001b[39;49mld(tape)\u001b[39m.\u001b[39;49mgradient, (ag__\u001b[39m.\u001b[39;49mld(out), ag__\u001b[39m.\u001b[39;49mld(shap_rAnD)), \u001b[39mNone\u001b[39;49;00m, fscope)\n\u001b[0;32m     35\u001b[0m ag__\u001b[39m.\u001b[39mconverted_call(ag__\u001b[39m.\u001b[39mld(tf)\u001b[39m.\u001b[39mkeras\u001b[39m.\u001b[39mbackend\u001b[39m.\u001b[39mset_learning_phase, (ag__\u001b[39m.\u001b[39mld(phase),), \u001b[39mNone\u001b[39;00m, fscope)\n\u001b[0;32m     36\u001b[0m \u001b[39mtry\u001b[39;00m:\n",
      "File \u001b[1;32mc:\\Users\\jocollin\\OneDrive - uni-mannheim.de\\repos\\DMU\\DMU_NN_TUTORIAL\\venv\\lib\\site-packages\\shap\\explainers\\_deep\\deep_tf.py:378\u001b[0m, in \u001b[0;36mTFDeep.custom_grad\u001b[1;34m(self, op, *grads)\u001b[0m\n\u001b[0;32m    375\u001b[0m \u001b[39m\u001b[39m\u001b[39m\"\"\" Passes a gradient op creation request to the correct handler.\u001b[39;00m\n\u001b[0;32m    376\u001b[0m \u001b[39m\"\"\"\u001b[39;00m\n\u001b[0;32m    377\u001b[0m type_name \u001b[39m=\u001b[39m op\u001b[39m.\u001b[39mtype[\u001b[39m5\u001b[39m:] \u001b[39mif\u001b[39;00m op\u001b[39m.\u001b[39mtype\u001b[39m.\u001b[39mstartswith(\u001b[39m\"\u001b[39m\u001b[39mshap_\u001b[39m\u001b[39m\"\u001b[39m) \u001b[39melse\u001b[39;00m op\u001b[39m.\u001b[39mtype\n\u001b[1;32m--> 378\u001b[0m out \u001b[39m=\u001b[39m op_handlers[type_name](\u001b[39mself\u001b[39;49m, op, \u001b[39m*\u001b[39;49mgrads) \u001b[39m# we cut off the shap_ prefex before the lookup\u001b[39;00m\n\u001b[0;32m    379\u001b[0m \u001b[39mreturn\u001b[39;00m out\n",
      "File \u001b[1;32mc:\\Users\\jocollin\\OneDrive - uni-mannheim.de\\repos\\DMU\\DMU_NN_TUTORIAL\\venv\\lib\\site-packages\\shap\\explainers\\_deep\\deep_tf.py:562\u001b[0m, in \u001b[0;36mlinearity_1d_nonlinearity_2d.<locals>.handler\u001b[1;34m(explainer, op, *grads)\u001b[0m\n\u001b[0;32m    561\u001b[0m \u001b[39mdef\u001b[39;00m \u001b[39mhandler\u001b[39m(explainer, op, \u001b[39m*\u001b[39mgrads):\n\u001b[1;32m--> 562\u001b[0m     var \u001b[39m=\u001b[39m explainer\u001b[39m.\u001b[39;49m_variable_inputs(op)\n\u001b[0;32m    563\u001b[0m     \u001b[39mif\u001b[39;00m var[input_ind0] \u001b[39mand\u001b[39;00m \u001b[39mnot\u001b[39;00m var[input_ind1]:\n\u001b[0;32m    564\u001b[0m         \u001b[39mreturn\u001b[39;00m linearity_1d_handler(input_ind0, explainer, op, \u001b[39m*\u001b[39mgrads)\n",
      "File \u001b[1;32mc:\\Users\\jocollin\\OneDrive - uni-mannheim.de\\repos\\DMU\\DMU_NN_TUTORIAL\\venv\\lib\\site-packages\\shap\\explainers\\_deep\\deep_tf.py:222\u001b[0m, in \u001b[0;36mTFDeep._variable_inputs\u001b[1;34m(self, op)\u001b[0m\n\u001b[0;32m    219\u001b[0m \u001b[39m\u001b[39m\u001b[39m\"\"\" Return which inputs of this operation are variable (i.e. depend on the model inputs).\u001b[39;00m\n\u001b[0;32m    220\u001b[0m \u001b[39m\"\"\"\u001b[39;00m\n\u001b[0;32m    221\u001b[0m \u001b[39mif\u001b[39;00m op \u001b[39mnot\u001b[39;00m \u001b[39min\u001b[39;00m \u001b[39mself\u001b[39m\u001b[39m.\u001b[39m_vinputs:\n\u001b[1;32m--> 222\u001b[0m     out \u001b[39m=\u001b[39m np\u001b[39m.\u001b[39mzeros(\u001b[39mlen\u001b[39m(op\u001b[39m.\u001b[39minputs), dtype\u001b[39m=\u001b[39mnp\u001b[39m.\u001b[39;49mbool)\n\u001b[0;32m    223\u001b[0m     \u001b[39mfor\u001b[39;00m i,t \u001b[39min\u001b[39;00m \u001b[39menumerate\u001b[39m(op\u001b[39m.\u001b[39minputs):\n\u001b[0;32m    224\u001b[0m         out[i] \u001b[39m=\u001b[39m t\u001b[39m.\u001b[39mname \u001b[39min\u001b[39;00m \u001b[39mself\u001b[39m\u001b[39m.\u001b[39mbetween_tensors\n",
      "File \u001b[1;32mc:\\Users\\jocollin\\OneDrive - uni-mannheim.de\\repos\\DMU\\DMU_NN_TUTORIAL\\venv\\lib\\site-packages\\numpy\\__init__.py:305\u001b[0m, in \u001b[0;36m__getattr__\u001b[1;34m(attr)\u001b[0m\n\u001b[0;32m    300\u001b[0m     warnings\u001b[39m.\u001b[39mwarn(\n\u001b[0;32m    301\u001b[0m         \u001b[39mf\u001b[39m\u001b[39m\"\u001b[39m\u001b[39mIn the future `np.\u001b[39m\u001b[39m{\u001b[39;00mattr\u001b[39m}\u001b[39;00m\u001b[39m` will be defined as the \u001b[39m\u001b[39m\"\u001b[39m\n\u001b[0;32m    302\u001b[0m         \u001b[39m\"\u001b[39m\u001b[39mcorresponding NumPy scalar.\u001b[39m\u001b[39m\"\u001b[39m, \u001b[39mFutureWarning\u001b[39;00m, stacklevel\u001b[39m=\u001b[39m\u001b[39m2\u001b[39m)\n\u001b[0;32m    304\u001b[0m \u001b[39mif\u001b[39;00m attr \u001b[39min\u001b[39;00m __former_attrs__:\n\u001b[1;32m--> 305\u001b[0m     \u001b[39mraise\u001b[39;00m \u001b[39mAttributeError\u001b[39;00m(__former_attrs__[attr])\n\u001b[0;32m    307\u001b[0m \u001b[39m# Importing Tester requires importing all of UnitTest which is not a\u001b[39;00m\n\u001b[0;32m    308\u001b[0m \u001b[39m# cheap import Since it is mainly used in test suits, we lazy import it\u001b[39;00m\n\u001b[0;32m    309\u001b[0m \u001b[39m# here to save on the order of 10 ms of import time for most users\u001b[39;00m\n\u001b[0;32m    310\u001b[0m \u001b[39m#\u001b[39;00m\n\u001b[0;32m    311\u001b[0m \u001b[39m# The previous way Tester was imported also had a side effect of adding\u001b[39;00m\n\u001b[0;32m    312\u001b[0m \u001b[39m# the full `numpy.testing` namespace\u001b[39;00m\n\u001b[0;32m    313\u001b[0m \u001b[39mif\u001b[39;00m attr \u001b[39m==\u001b[39m \u001b[39m'\u001b[39m\u001b[39mtesting\u001b[39m\u001b[39m'\u001b[39m:\n",
      "\u001b[1;31mAttributeError\u001b[0m: in user code:\n\n    File \"c:\\Users\\jocollin\\OneDrive - uni-mannheim.de\\repos\\DMU\\DMU_NN_TUTORIAL\\venv\\lib\\site-packages\\shap\\explainers\\_deep\\deep_tf.py\", line 252, in grad_graph  *\n        x_grad = tape.gradient(out, shap_rAnD)\n    File \"c:\\Users\\jocollin\\OneDrive - uni-mannheim.de\\repos\\DMU\\DMU_NN_TUTORIAL\\venv\\lib\\site-packages\\shap\\explainers\\_deep\\deep_tf.py\", line 378, in custom_grad\n        out = op_handlers[type_name](self, op, *grads) # we cut off the shap_ prefex before the lookup\n    File \"c:\\Users\\jocollin\\OneDrive - uni-mannheim.de\\repos\\DMU\\DMU_NN_TUTORIAL\\venv\\lib\\site-packages\\shap\\explainers\\_deep\\deep_tf.py\", line 562, in handler\n        var = explainer._variable_inputs(op)\n    File \"c:\\Users\\jocollin\\OneDrive - uni-mannheim.de\\repos\\DMU\\DMU_NN_TUTORIAL\\venv\\lib\\site-packages\\shap\\explainers\\_deep\\deep_tf.py\", line 222, in _variable_inputs\n        out = np.zeros(len(op.inputs), dtype=np.bool)\n    File \"c:\\Users\\jocollin\\OneDrive - uni-mannheim.de\\repos\\DMU\\DMU_NN_TUTORIAL\\venv\\lib\\site-packages\\numpy\\__init__.py\", line 305, in __getattr__\n        raise AttributeError(__former_attrs__[attr])\n\n    AttributeError: module 'numpy' has no attribute 'bool'.\n    `np.bool` was a deprecated alias for the builtin `bool`. To avoid this error in existing code, use `bool` by itself. Doing this will not modify any behavior and is safe. If you specifically wanted the numpy scalar type, use `np.bool_` here.\n    The aliases was originally deprecated in NumPy 1.20; for more details and guidance see the original release note at:\n        https://numpy.org/devdocs/release/1.20.0-notes.html#deprecations\n"
     ]
    }
   ],
   "source": [
    "deep_explain = shap.DeepExplainer(model.model, X_test)\n",
    "deep_shap_values= deep_explain.shap_values(X_test[1:5])\n",
    "\n",
    "matplotlib.rc('figure', figsize=(10,10))\n",
    "pd.Series(\n",
    "    deep_shap_values[0][0],\n",
    "    index=feature_names\n",
    "    ).sort_values(\n",
    "    ).plot.barh(\n",
    "        title='SHAP Values'\n",
    "        )"
   ]
  },
  {
   "attachments": {},
   "cell_type": "markdown",
   "metadata": {},
   "source": [
    "It appears that petal length and width are the most important factors when trying to classify a flower. Sepal width is also important, but sepal length is relatively inconsequential. "
   ]
  },
  {
   "attachments": {},
   "cell_type": "markdown",
   "metadata": {},
   "source": [
    "## Save and Load Keras Models\n",
    "Often, once we have developed our model, we want to deploy it elsewhere so it can used in some other application. \n",
    "Keras offers a method for saving the model as a directory of files, which can then be sent anywhere you desire. \n",
    "That directory can then be loaded in python runtime to instantiate a replica of the fitted model. It is ready to make predictions right after loading. "
   ]
  },
  {
   "cell_type": "code",
   "execution_count": null,
   "metadata": {},
   "outputs": [
    {
     "name": "stdout",
     "output_type": "stream",
     "text": [
      "Accuracy of this simple model is: 96.00%\n"
     ]
    }
   ],
   "source": [
    "model.model.save('keras_model')\n",
    "loaded_model = keras.models.load_model('keras_model')\n",
    "\n",
    "loaded_model_y_preds = loaded_model.predict(X_test) >= .5\n",
    "\n",
    "loaded_model_accuracy = accuracy_score(\n",
    "    y_test,\n",
    "    y_pred = loaded_model_y_preds\n",
    "    )\n",
    "print(\n",
    "    \"Accuracy of this simple model is: \"+\n",
    "    \"{:1.2f}\".format(accuracy*100)+\"%\"\n",
    "    )"
   ]
  },
  {
   "attachments": {},
   "cell_type": "markdown",
   "metadata": {},
   "source": [
    "## Other use cases\n",
    "In case you want to reuse this code, but for some other use case, like binary classification or regression, we demonstrate how the same class can easily accomplish those as well. "
   ]
  },
  {
   "attachments": {},
   "cell_type": "markdown",
   "metadata": {},
   "source": [
    "### Binary Classification"
   ]
  },
  {
   "cell_type": "code",
   "execution_count": null,
   "metadata": {},
   "outputs": [
    {
     "name": "stdout",
     "output_type": "stream",
     "text": [
      "Accuracy of this model is: 95.21%\n"
     ]
    }
   ],
   "source": [
    "dataset = datasets.load_breast_cancer(\n",
    "    return_X_y=False, as_frame=False\n",
    "    )\n",
    "X = dataset.data\n",
    "y = dataset.target\n",
    "y = np_utils.to_categorical(y)\n",
    "n_classes = len(dataset.target_names) \n",
    "input_shape = len(dataset.feature_names)\n",
    "feature_names = dataset.feature_names \n",
    "X_train, X_test, y_train, y_test = train_test_split(\n",
    "    X, \n",
    "    y, \n",
    "    test_size=0.33, \n",
    "    random_state=42\n",
    "    )\n",
    "\n",
    "model = ANNHyperModel(\n",
    "    input_shape =input_shape,\n",
    "    n_outputs = n_classes,\n",
    "    epochs = 150,\n",
    "    loss = keras.losses.BinaryCrossentropy(),\n",
    "    hypergrid = hypergrid,\n",
    "    objective=\"val_accuracy\",\n",
    "    directory = 'kt-dir',\n",
    "    callbacks=[EarlyStopping(monitor='loss', patience=5)]\n",
    "    )\n",
    "\n",
    "model.execute(X_train,y_train,validation_size=.2)\n",
    "\n",
    "y_pred = model.model.predict(X_test).argmax(axis=1)\n",
    "accuracy = accuracy_score(y_test.argmax(axis=1),y_pred)\n",
    "print(\n",
    "    \"Accuracy of this model is: \"+\n",
    "    \"{:1.2f}\".format(accuracy*100)+\"%\"\n",
    "    )"
   ]
  },
  {
   "attachments": {},
   "cell_type": "markdown",
   "metadata": {},
   "source": [
    "### Regression"
   ]
  },
  {
   "cell_type": "code",
   "execution_count": null,
   "metadata": {},
   "outputs": [
    {
     "name": "stdout",
     "output_type": "stream",
     "text": [
      "MAE of this model is: 4429.89\n"
     ]
    }
   ],
   "source": [
    "\n",
    "dataset = datasets.load_diabetes(return_X_y=False)\n",
    "X = dataset.data\n",
    "y = dataset.target\n",
    "input_shape = len(dataset.feature_names)\n",
    "feature_names = dataset.feature_names \n",
    "X_train, X_test, y_train, y_test = train_test_split(\n",
    "    X, \n",
    "    y, \n",
    "    test_size=0.33, \n",
    "    random_state=42\n",
    "    )\n",
    "\n",
    "model = ANNHyperModel(\n",
    "    input_shape =input_shape,\n",
    "    ## we are predicting one continuous variable, so we want \n",
    "    # only one output node\n",
    "    n_outputs = 1, \n",
    "    epochs = 150,\n",
    "    loss = keras.losses.MeanAbsoluteError(),\n",
    "    output_activation=None,\n",
    "    hypergrid = hypergrid,\n",
    "    metrics=[\n",
    "            tf.keras.metrics.MeanSquaredError(\n",
    "            name=\"mean_absolute_error\", \n",
    "            dtype=None\n",
    "            )\n",
    "        ],\n",
    "    objective=\"val_mean_absolute_error\",\n",
    "    directory = 'kt-dir',\n",
    "    callbacks=[EarlyStopping(monitor='loss', patience=5)]\n",
    "    )\n",
    "\n",
    "model.execute(X_train,y_train,validation_size=.2)\n",
    "\n",
    "## use flatten because the single output node outputs a \n",
    "# series of vectors of 1 item each. Flatten makes \n",
    "# 1d array instead\n",
    "y_pred = model.model.predict(X_test).flatten() \n",
    "\n",
    "error = mean_absolute_error(y_test,y_pred)\n",
    "print(\"MAE of this model is: \"+\"{:1.2f}\".format(error*100))"
   ]
  },
  {
   "attachments": {},
   "cell_type": "markdown",
   "metadata": {},
   "source": [
    "## Conclusion\n",
    "This article provided a hand-on demonstration of how to implement ANNs for your own context. By following the code in this article, you should e able to adapt the reusable `ANNHypermodel` class to your own project. ANNs are a powerful machine learning algorithm, and can be applied to many different problems. With a basic understanding of how to implement ANNs, you can also start to progress to learn more advanced types of neural networks, including Recurrent Neural Networks and Convolutional Neural Networks. \n",
    "\n",
    "### Further reading\n",
    "- [This video tutorial series on the theory of ANNs.](https://www.youtube.com/watch?v=CqOfi41LfDw&ab_channel=StatQuestwithJoshStarmer)\n",
    "- [The tensorflow playground](https://playground.tensorflow.org), a fun visual aid for intuitively understanding how neural networks function. \n",
    "- [The documentation for Tensorflow.](https://www.tensorflow.org/)\n",
    "- [The documentation for SHAP.](https://shap.readthedocs.io/en/latest/)\n",
    "\n",
    "### About the author\n",
    "[John 'Jack' Collins](https://www.mzes.uni-mannheim.de/d7/en/profiles/john-james-collins) is a PhD candidate at the Mannheimer Zentrum für Europäische Sozialforschung (MZES). Jack holds a Master's in  Data Science and his research focuses on applying machine learning to survey methodology. Before coming to Mannheim University for PhD, Jack was an IT consultant. You can find Jack on [LinkedIn](https://www.linkedin.com/in/jack-collins-595a53115/) and through his [website](https://jackcollins91.github.io/jcowebsite/). "
   ]
  },
  {
   "attachments": {},
   "cell_type": "markdown",
   "metadata": {},
   "source": [
    "## Replication information\n",
    "Python libraries are updated from time to time. Sometimes, when you import code from another project, it can suddenly fail because of version differences. To help with replicability, here's a dump of the version of every module in the environment as of when this code ran successfully. "
   ]
  },
  {
   "cell_type": "code",
   "execution_count": null,
   "metadata": {},
   "outputs": [],
   "source": [
    "!pip freeze"
   ]
  }
 ],
 "metadata": {
  "kernelspec": {
   "display_name": "Python 3",
   "language": "python",
   "name": "python3"
  },
  "language_info": {
   "codemirror_mode": {
    "name": "ipython",
    "version": 3
   },
   "file_extension": ".py",
   "mimetype": "text/x-python",
   "name": "python",
   "nbconvert_exporter": "python",
   "pygments_lexer": "ipython3",
   "version": "3.10.7"
  },
  "orig_nbformat": 4,
  "vscode": {
   "interpreter": {
    "hash": "f909c0dcb1f91e5e5c56d5a5ffbeb389c696e04e7391234a5a7c6e7b702cb751"
   }
  }
 },
 "nbformat": 4,
 "nbformat_minor": 2
}
